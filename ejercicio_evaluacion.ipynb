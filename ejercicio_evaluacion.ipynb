{
 "cells": [
  {
   "cell_type": "markdown",
   "metadata": {},
   "source": [
    "# Ejercicio (parte obligatoria)"
   ]
  },
  {
   "cell_type": "code",
   "execution_count": 34,
   "metadata": {},
   "outputs": [],
   "source": [
    "class TiendaOnline:\n",
    "    \n",
    "    \"\"\"Esta clase permite al usuario crear una tienda online. \n",
    "    \n",
    "    El usuario podrá llevar un regsitro del inventario disponible, así como modificarlo en función de las nuevas compras o ventas.\"\"\"\n",
    "    \n",
    "    def __init__(self, ventas_totales = 0):\n",
    "        \n",
    "        self.inventario = [] #lista de diccionarios {\"nombre\": str, \"precio\": int, \"cantidad\": int}\n",
    "        \n",
    "        self.ventas_totales = ventas_totales\n",
    "        \n",
    "        # Añadir aquí productos puede ser útil (se repite en varios métodos) \n",
    "        # Uso la lista productos porque se hace la iteración dentro del bucle for, comprueba cada diccionario y ejecuta la acción para cada producto. \n",
    "        # Esto hace que agregue directamente algo aunque ya exista. \n",
    "        \n",
    "    def agregar_producto(self, nombre, precio, cantidad): \n",
    "        \n",
    "        \"\"\"Si el producto ya existe, actualiza la cantidad.\n",
    "            Si no, agrega un nuevo producto.\"\"\"\n",
    "        \n",
    "        if len(self.inventario) > 0: # Comprueba si la lista inventario está vacía, si no lo está, agrega directamente el nuevo producto.\n",
    "            \n",
    "            productos = [self.inventario[i][\"nombre\"] for i in range(len(self.inventario))] #Creando esta variable es posible ver si un producto existe dentro del inventario.\n",
    "            \n",
    "            if nombre not in productos:  #Si el nombre no está en la lista productos, directamente lo agrega.\n",
    "                    \n",
    "                self.inventario.append({\"nombre\": nombre, \"precio\": precio, \"cantidad\": cantidad})\n",
    "            \n",
    "            else: #Si el nombre existe, itera sobre la lista de diccionarios y actualiza la cantidad (siempre y cuando el precio sea el mismo) \n",
    "            \n",
    "                for producto in self.inventario:\n",
    "                \n",
    "                    if producto[\"nombre\"] == nombre and producto[\"precio\"] == precio:\n",
    "                    \n",
    "                        producto[\"cantidad\"] += cantidad\n",
    "\n",
    "                    # Aquí se podría contemplar añadir una acción en caso de que el precio no coincida. Por ejemplo, preguntar al usuario si quiere actualizarlo al nuevo valor o no.\n",
    "        else:\n",
    "            self.inventario.append({\"nombre\": nombre, \"precio\": precio, \"cantidad\": cantidad})\n",
    "    \n",
    "    def ver_inventario(self): \n",
    "    \n",
    "        \"\"\" Muestra todos los productos del inventario.\"\"\"\n",
    "    \n",
    "        for producto in self.inventario:\n",
    "            print(f\"✏️Nombre: {producto[\"nombre\"]}\\n💵Precio: {producto[\"precio\"]}€\\n📦Cantidad: {producto[\"cantidad\"]}\\n{\"=\"*50}\")\n",
    "    \n",
    "    def buscar_producto(self, nombre):\n",
    "        \n",
    "        \"\"\"  Busca el producto por su nombre y muestra detalles si se encuentra.\"\"\"\n",
    "        \n",
    "        for producto in self.inventario:\n",
    "            \n",
    "            if producto[\"nombre\"] == nombre:\n",
    "                print(f\"✏️Nombre: {producto[\"nombre\"]}\\n💵Precio: {producto[\"precio\"]}€\\n📦Cantidad: {producto[\"cantidad\"]}\\n\")\n",
    "            else:\n",
    "                print(f\"{nombre} no aparece en el inventario\")\n",
    "                \n",
    "    def actualiza_stock (self, nombre, cantidad):\n",
    "        \n",
    "        \"\"\"Actualiza la cantidad de un producto existente.\n",
    "        Si no está en el inventario, muestra un mensaje.\"\"\"\n",
    "        \n",
    "        productos = [self.inventario[i][\"nombre\"] for i in range(len(self.inventario))] # Volvemos a usar esta lista para comprobar de una vez si el producto existe en el inventario. \n",
    "            \n",
    "        if nombre not in productos:\n",
    "                    \n",
    "            print(f\"Error: {nombre} no está en el inventario\")\n",
    "            \n",
    "        else: # Si el producto está, empieza a iterar sobre inventario. \n",
    "            \n",
    "            for producto in self.inventario: \n",
    "                \n",
    "                if producto[\"nombre\"] == nombre: # Si el nombre coincide, te permite modificar la cantidad, sumando o restando.\n",
    "                \n",
    "                    operacion = str(input(\"Indica si quieres agregar (S) o quitar (R) producto:\")).lower()\n",
    "                \n",
    "                    if operacion == \"s\":\n",
    "                    \n",
    "                        producto[\"cantidad\"] += cantidad\n",
    "                    \n",
    "                    elif operacion == \"r\":  \n",
    "                    \n",
    "                        if producto[\"cantidad\"] >= cantidad: # Así se evita tener cantidades negativas. \n",
    "                    \n",
    "                            producto[\"cantidad\"] -= cantidad\n",
    "                        \n",
    "                        else:\n",
    "                            print(f\"No hay suficiente {nombre} en stock\")\n",
    "                            \n",
    "                    else:\n",
    "                    \n",
    "                        print(\"Introduce una opción válida\")\n",
    "                    \n",
    "    def eliminar_producto(self, nombre):\n",
    "        \n",
    "        \"\"\"Elimina un producto por nombre si existe.\n",
    "            Muestra un mensaje si no se encuentra.\"\"\"\n",
    "        \n",
    "        productos = [self.inventario[i][\"nombre\"] for i in range(len(self.inventario))] # De nuevo, así se comprueba si el producto está en el inventario.\n",
    "            \n",
    "        if nombre not in productos:\n",
    "            \n",
    "            print(f\"Error: {nombre} no está en el inventario\")\n",
    "                    \n",
    "        else: # Si el producto existe, se elimina. \n",
    "            \n",
    "            for i in range(len(self.inventario)): # Utilizando este tipo de bucle se itera por índice de la lista inventario para poder eliminar el diccionario completo. \n",
    "            \n",
    "                if nombre == self.inventario[i][\"nombre\"]:\n",
    "                \n",
    "                    self.inventario.remove(self.inventario[i])\n",
    "    \n",
    "    def calcular_valor_invetario(self): \n",
    "        \n",
    "        \"\"\" Calcula el valor total del inventario como el sumatorio de los productos de precio x cantidad\"\"\"\n",
    "    \n",
    "        return (sum([producto[\"precio\"] * producto[\"cantidad\"] for producto in self.inventario]))  # En esta lista se almacena cada precio x cantidad por producto y se suman todos. "
   ]
  },
  {
   "cell_type": "code",
   "execution_count": 2,
   "metadata": {},
   "outputs": [],
   "source": [
    "tienda = TiendaOnline()"
   ]
  },
  {
   "cell_type": "code",
   "execution_count": 3,
   "metadata": {},
   "outputs": [
    {
     "data": {
      "text/plain": [
       "{'inventario': [], 'ventas_totales': 0}"
      ]
     },
     "execution_count": 3,
     "metadata": {},
     "output_type": "execute_result"
    }
   ],
   "source": [
    "tienda.__dict__"
   ]
  },
  {
   "cell_type": "code",
   "execution_count": 4,
   "metadata": {},
   "outputs": [],
   "source": [
    "tienda.agregar_producto(\"Camisa\", 20, 40)"
   ]
  },
  {
   "cell_type": "code",
   "execution_count": 5,
   "metadata": {},
   "outputs": [
    {
     "data": {
      "text/plain": [
       "[{'nombre': 'Camisa', 'precio': 20, 'cantidad': 40}]"
      ]
     },
     "execution_count": 5,
     "metadata": {},
     "output_type": "execute_result"
    }
   ],
   "source": [
    "tienda.inventario"
   ]
  },
  {
   "cell_type": "code",
   "execution_count": 6,
   "metadata": {},
   "outputs": [],
   "source": [
    "tienda.agregar_producto(\"Pantalón\", 30, 30)"
   ]
  },
  {
   "cell_type": "code",
   "execution_count": 7,
   "metadata": {},
   "outputs": [
    {
     "data": {
      "text/plain": [
       "[{'nombre': 'Camisa', 'precio': 20, 'cantidad': 40},\n",
       " {'nombre': 'Pantalón', 'precio': 30, 'cantidad': 30}]"
      ]
     },
     "execution_count": 7,
     "metadata": {},
     "output_type": "execute_result"
    }
   ],
   "source": [
    "tienda.inventario"
   ]
  },
  {
   "cell_type": "code",
   "execution_count": 8,
   "metadata": {},
   "outputs": [],
   "source": [
    "tienda.agregar_producto(\"Pantalón\", 30, 5)"
   ]
  },
  {
   "cell_type": "code",
   "execution_count": 9,
   "metadata": {},
   "outputs": [
    {
     "data": {
      "text/plain": [
       "[{'nombre': 'Camisa', 'precio': 20, 'cantidad': 40},\n",
       " {'nombre': 'Pantalón', 'precio': 30, 'cantidad': 35}]"
      ]
     },
     "execution_count": 9,
     "metadata": {},
     "output_type": "execute_result"
    }
   ],
   "source": [
    "tienda.inventario"
   ]
  },
  {
   "cell_type": "code",
   "execution_count": 10,
   "metadata": {},
   "outputs": [],
   "source": [
    "tienda.agregar_producto(\"Camisa\", 20, 5)"
   ]
  },
  {
   "cell_type": "code",
   "execution_count": 11,
   "metadata": {},
   "outputs": [
    {
     "data": {
      "text/plain": [
       "[{'nombre': 'Camisa', 'precio': 20, 'cantidad': 45},\n",
       " {'nombre': 'Pantalón', 'precio': 30, 'cantidad': 35}]"
      ]
     },
     "execution_count": 11,
     "metadata": {},
     "output_type": "execute_result"
    }
   ],
   "source": [
    "tienda.inventario"
   ]
  },
  {
   "cell_type": "code",
   "execution_count": 12,
   "metadata": {},
   "outputs": [],
   "source": [
    "tienda.agregar_producto(\"Camiseta\", 15, 50)"
   ]
  },
  {
   "cell_type": "code",
   "execution_count": 13,
   "metadata": {},
   "outputs": [
    {
     "data": {
      "text/plain": [
       "[{'nombre': 'Camisa', 'precio': 20, 'cantidad': 45},\n",
       " {'nombre': 'Pantalón', 'precio': 30, 'cantidad': 35},\n",
       " {'nombre': 'Camiseta', 'precio': 15, 'cantidad': 50}]"
      ]
     },
     "execution_count": 13,
     "metadata": {},
     "output_type": "execute_result"
    }
   ],
   "source": [
    "tienda.inventario"
   ]
  },
  {
   "cell_type": "code",
   "execution_count": 14,
   "metadata": {},
   "outputs": [
    {
     "name": "stdout",
     "output_type": "stream",
     "text": [
      "No hay suficiente Camiseta en stock\n"
     ]
    }
   ],
   "source": [
    "tienda.actualiza_stock(\"Camiseta\", 55)"
   ]
  },
  {
   "cell_type": "code",
   "execution_count": 15,
   "metadata": {},
   "outputs": [
    {
     "data": {
      "text/plain": [
       "[{'nombre': 'Camisa', 'precio': 20, 'cantidad': 45},\n",
       " {'nombre': 'Pantalón', 'precio': 30, 'cantidad': 35},\n",
       " {'nombre': 'Camiseta', 'precio': 15, 'cantidad': 50}]"
      ]
     },
     "execution_count": 15,
     "metadata": {},
     "output_type": "execute_result"
    }
   ],
   "source": [
    "tienda.inventario"
   ]
  },
  {
   "cell_type": "code",
   "execution_count": 16,
   "metadata": {},
   "outputs": [],
   "source": [
    "tienda.eliminar_producto(\"Camiseta\")"
   ]
  },
  {
   "cell_type": "code",
   "execution_count": 17,
   "metadata": {},
   "outputs": [
    {
     "data": {
      "text/plain": [
       "[{'nombre': 'Camisa', 'precio': 20, 'cantidad': 45},\n",
       " {'nombre': 'Pantalón', 'precio': 30, 'cantidad': 35}]"
      ]
     },
     "execution_count": 17,
     "metadata": {},
     "output_type": "execute_result"
    }
   ],
   "source": [
    "tienda.inventario"
   ]
  },
  {
   "cell_type": "code",
   "execution_count": 18,
   "metadata": {},
   "outputs": [
    {
     "name": "stdout",
     "output_type": "stream",
     "text": [
      "Error: Zapato no está en el inventario\n"
     ]
    }
   ],
   "source": [
    "tienda.eliminar_producto(\"Zapato\")"
   ]
  },
  {
   "cell_type": "code",
   "execution_count": 19,
   "metadata": {},
   "outputs": [
    {
     "data": {
      "text/plain": [
       "[{'nombre': 'Camisa', 'precio': 20, 'cantidad': 45},\n",
       " {'nombre': 'Pantalón', 'precio': 30, 'cantidad': 35}]"
      ]
     },
     "execution_count": 19,
     "metadata": {},
     "output_type": "execute_result"
    }
   ],
   "source": [
    "tienda.inventario"
   ]
  },
  {
   "cell_type": "code",
   "execution_count": 20,
   "metadata": {},
   "outputs": [
    {
     "data": {
      "text/plain": [
       "1950"
      ]
     },
     "execution_count": 20,
     "metadata": {},
     "output_type": "execute_result"
    }
   ],
   "source": [
    "tienda.calcular_valor_invetario()"
   ]
  },
  {
   "cell_type": "code",
   "execution_count": 23,
   "metadata": {},
   "outputs": [],
   "source": [
    "tienda.actualiza_stock(\"Camisa\", 5)"
   ]
  },
  {
   "cell_type": "code",
   "execution_count": 24,
   "metadata": {},
   "outputs": [
    {
     "data": {
      "text/plain": [
       "[{'nombre': 'Camisa', 'precio': 20, 'cantidad': 50},\n",
       " {'nombre': 'Pantalón', 'precio': 30, 'cantidad': 35}]"
      ]
     },
     "execution_count": 24,
     "metadata": {},
     "output_type": "execute_result"
    }
   ],
   "source": [
    "tienda.inventario"
   ]
  },
  {
   "cell_type": "code",
   "execution_count": 25,
   "metadata": {},
   "outputs": [],
   "source": [
    "tienda.actualiza_stock(\"Pantalón\", 5)"
   ]
  },
  {
   "cell_type": "code",
   "execution_count": 26,
   "metadata": {},
   "outputs": [
    {
     "data": {
      "text/plain": [
       "[{'nombre': 'Camisa', 'precio': 20, 'cantidad': 50},\n",
       " {'nombre': 'Pantalón', 'precio': 30, 'cantidad': 30}]"
      ]
     },
     "execution_count": 26,
     "metadata": {},
     "output_type": "execute_result"
    }
   ],
   "source": [
    "tienda.inventario"
   ]
  },
  {
   "cell_type": "markdown",
   "metadata": {},
   "source": [
    "# BONUS"
   ]
  },
  {
   "cell_type": "markdown",
   "metadata": {},
   "source": [
    "He creado la clase TiendaOnline_2, que es clase hija de TiendaOnline."
   ]
  },
  {
   "cell_type": "code",
   "execution_count": null,
   "metadata": {},
   "outputs": [],
   "source": [
    "class TiendaOnline_2(TiendaOnline):\n",
    "    \n",
    "    \"\"\"Esta clase permite al usuario gestionar compras y clientes de su tienda online.\"\"\"\n",
    "    \n",
    "    def __init__(self, ventas_totales=0):\n",
    "        \n",
    "        super().__init__(ventas_totales)\n",
    "        \n",
    "        self.clientes = {}\n",
    "        \n",
    "    def agrega_cliente(self, nombre, email): \n",
    "        \n",
    "        \"\"\"Agrega un cliente al diccionario de clientes con su nombre y correo electrónico.\"\"\"\n",
    "    \n",
    "        if nombre in self.clientes.keys(): #Como las keys tienen que ser únicas, comprueba si hay nombres repetidos para no modificar el existente.\n",
    "            \n",
    "            print(f\"{nombre} ya exite, elige un nombre distinto\") #También se podría dar la opción al usuario de decidir si actualizar el cliente o introducir uno nuevo. \n",
    "            \n",
    "            # Usando set_default quizás se pueda evitar hacer esto(?).\n",
    "            \n",
    "        else:\n",
    "            \n",
    "            self.clientes.update({nombre:{\"email\": email, \"compras\": []}})\n",
    "    \n",
    "    def ver_clientes(self):\n",
    "        \n",
    "        for nombre in self.clientes.keys():\n",
    "        \n",
    "            print(f\"✏️Nombre: {nombre}\\n📧Correo electrónico: {self.clientes[nombre][\"email\"]}\\n\")\n",
    "            \n",
    "\n",
    "        \n",
    "    "
   ]
  },
  {
   "cell_type": "code",
   "execution_count": 28,
   "metadata": {},
   "outputs": [],
   "source": [
    "super_tienda = TiendaOnline_2()"
   ]
  },
  {
   "cell_type": "code",
   "execution_count": 29,
   "metadata": {},
   "outputs": [
    {
     "data": {
      "text/plain": [
       "{'inventario': [], 'ventas_totales': 0, 'clientes': {}}"
      ]
     },
     "execution_count": 29,
     "metadata": {},
     "output_type": "execute_result"
    }
   ],
   "source": [
    "super_tienda.__dict__"
   ]
  },
  {
   "cell_type": "code",
   "execution_count": 30,
   "metadata": {},
   "outputs": [],
   "source": [
    "super_tienda.agrega_cliente(\"María\", \"maria@misitio.com\")"
   ]
  },
  {
   "cell_type": "code",
   "execution_count": 31,
   "metadata": {},
   "outputs": [
    {
     "name": "stdout",
     "output_type": "stream",
     "text": [
      "✏️Nombre: María\n",
      "📧Correo electrónico: maria@misitio.com\n",
      "\n"
     ]
    }
   ],
   "source": [
    "super_tienda.ver_clientes()"
   ]
  },
  {
   "cell_type": "code",
   "execution_count": 32,
   "metadata": {},
   "outputs": [
    {
     "data": {
      "text/plain": [
       "{'María': {'email': 'maria@misitio.com', 'compras': []}}"
      ]
     },
     "execution_count": 32,
     "metadata": {},
     "output_type": "execute_result"
    }
   ],
   "source": [
    "super_tienda.clientes"
   ]
  }
 ],
 "metadata": {
  "kernelspec": {
   "display_name": "base",
   "language": "python",
   "name": "python3"
  },
  "language_info": {
   "codemirror_mode": {
    "name": "ipython",
    "version": 3
   },
   "file_extension": ".py",
   "mimetype": "text/x-python",
   "name": "python",
   "nbconvert_exporter": "python",
   "pygments_lexer": "ipython3",
   "version": "3.12.7"
  }
 },
 "nbformat": 4,
 "nbformat_minor": 2
}
