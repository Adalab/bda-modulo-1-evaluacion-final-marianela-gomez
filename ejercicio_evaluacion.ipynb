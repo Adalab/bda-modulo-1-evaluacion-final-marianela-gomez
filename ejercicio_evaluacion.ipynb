{
 "cells": [
  {
   "cell_type": "code",
   "execution_count": 1,
   "metadata": {},
   "outputs": [],
   "source": [
    "class TiendaOnline:\n",
    "    \n",
    "    def __init__(self, ventas_totales = 0):\n",
    "        \n",
    "        self.inventario = [] #lista de diccionarios {\"nombre\": str, \"precio\": int, \"cantidad\": int}\n",
    "        \n",
    "        self.ventas_totales = ventas_totales\n",
    "        \n",
    "    def agregar_producto(self, nombre, precio, cantidad): \n",
    "        \n",
    "        if len(self.inventario) > 0: # Comprobar si está vacío\n",
    "            \n",
    "            productos = [self.inventario[i][\"nombre\"] for i in range(len(self.inventario))]\n",
    "            \n",
    "            if nombre not in productos:\n",
    "                    \n",
    "                self.inventario.append({\"nombre\": nombre, \"precio\": precio, \"cantidad\": cantidad})\n",
    "            \n",
    "            for producto in self.inventario:\n",
    "                \n",
    "                if producto[\"nombre\"] == nombre and producto[\"precio\"] == precio:\n",
    "                    \n",
    "                    producto[\"cantidad\"] += cantidad\n",
    "        \n",
    "        else:\n",
    "            self.inventario.append({\"nombre\": nombre, \"precio\": precio, \"cantidad\": cantidad})\n",
    "    \n",
    "    def ver_inventario(self): \n",
    "    \n",
    "        for producto in self.inventario:\n",
    "            print (f\"✏️Nombre: {producto[\"nombre\"]}\\n💵Precio: {producto[\"precio\"]}€\\n📦Cantidad: {producto[\"cantidad\"]}\\n{\"=\"*50}\")\n",
    "    \n",
    "    def buscar_producto(self, nombre):\n",
    "        \n",
    "        for producto in self.inventario:\n",
    "            \n",
    "            if producto[\"nombre\"] == nombre:\n",
    "                print(f\"✏️Nombre: {producto[\"nombre\"]}\\n💵Precio: {producto[\"precio\"]}€\\n📦Cantidad: {producto[\"cantidad\"]}\\n\")\n",
    "            else:\n",
    "                print(f\"{nombre} no aparece en el inventario\")\n",
    "                \n",
    "    def actualiza_stock (self, nombre, cantidad):\n",
    "        \n",
    "        productos = [self.inventario[i][\"nombre\"] for i in range(len(self.inventario))]\n",
    "            \n",
    "        if nombre not in productos:\n",
    "                    \n",
    "            print(f\"Error: {nombre} no está en el inventario\")\n",
    "            \n",
    "        for producto in self.inventario:\n",
    "                \n",
    "            if producto[\"nombre\"] == nombre:\n",
    "                \n",
    "                operacion = str(input(\"Indica si quieres agregar (S) o quitar (R) producto:\")).lower()\n",
    "                \n",
    "                if operacion == \"s\":\n",
    "                    \n",
    "                    producto[\"cantidad\"] += cantidad\n",
    "                    \n",
    "                elif operacion == \"r\": \n",
    "                    \n",
    "                    producto[\"cantidad\"] -= cantidad\n",
    "                else:\n",
    "                    \n",
    "                    print(\"Introduce una opción válida\")"
   ]
  },
  {
   "cell_type": "code",
   "execution_count": 2,
   "metadata": {},
   "outputs": [],
   "source": [
    "tienda = TiendaOnline()"
   ]
  },
  {
   "cell_type": "code",
   "execution_count": 3,
   "metadata": {},
   "outputs": [
    {
     "data": {
      "text/plain": [
       "{'inventario': [], 'ventas_totales': 0}"
      ]
     },
     "execution_count": 3,
     "metadata": {},
     "output_type": "execute_result"
    }
   ],
   "source": [
    "tienda.__dict__"
   ]
  },
  {
   "cell_type": "code",
   "execution_count": 4,
   "metadata": {},
   "outputs": [],
   "source": [
    "tienda.agregar_producto(\"Camisa\", 20, 40)"
   ]
  },
  {
   "cell_type": "code",
   "execution_count": 5,
   "metadata": {},
   "outputs": [
    {
     "data": {
      "text/plain": [
       "[{'nombre': 'Camisa', 'precio': 20, 'cantidad': 40}]"
      ]
     },
     "execution_count": 5,
     "metadata": {},
     "output_type": "execute_result"
    }
   ],
   "source": [
    "tienda.inventario"
   ]
  },
  {
   "cell_type": "code",
   "execution_count": 6,
   "metadata": {},
   "outputs": [],
   "source": [
    "tienda.agregar_producto(\"Pantalón\", 30, 30)"
   ]
  },
  {
   "cell_type": "code",
   "execution_count": 7,
   "metadata": {},
   "outputs": [
    {
     "data": {
      "text/plain": [
       "[{'nombre': 'Camisa', 'precio': 20, 'cantidad': 40},\n",
       " {'nombre': 'Pantalón', 'precio': 30, 'cantidad': 60}]"
      ]
     },
     "execution_count": 7,
     "metadata": {},
     "output_type": "execute_result"
    }
   ],
   "source": [
    "tienda.inventario"
   ]
  },
  {
   "cell_type": "code",
   "execution_count": 8,
   "metadata": {},
   "outputs": [],
   "source": [
    "tienda.agregar_producto(\"Pantalón\", 30, 5)"
   ]
  },
  {
   "cell_type": "code",
   "execution_count": 9,
   "metadata": {},
   "outputs": [
    {
     "data": {
      "text/plain": [
       "[{'nombre': 'Camisa', 'precio': 20, 'cantidad': 40},\n",
       " {'nombre': 'Pantalón', 'precio': 30, 'cantidad': 65}]"
      ]
     },
     "execution_count": 9,
     "metadata": {},
     "output_type": "execute_result"
    }
   ],
   "source": [
    "tienda.inventario"
   ]
  },
  {
   "cell_type": "code",
   "execution_count": 10,
   "metadata": {},
   "outputs": [],
   "source": [
    "tienda.agregar_producto(\"Camisa\", 20, 5)"
   ]
  },
  {
   "cell_type": "code",
   "execution_count": 11,
   "metadata": {},
   "outputs": [
    {
     "data": {
      "text/plain": [
       "[{'nombre': 'Camisa', 'precio': 20, 'cantidad': 45},\n",
       " {'nombre': 'Pantalón', 'precio': 30, 'cantidad': 65}]"
      ]
     },
     "execution_count": 11,
     "metadata": {},
     "output_type": "execute_result"
    }
   ],
   "source": [
    "tienda.inventario"
   ]
  },
  {
   "cell_type": "code",
   "execution_count": 12,
   "metadata": {},
   "outputs": [],
   "source": [
    "tienda.agregar_producto(\"Camiseta\", 15, 50)"
   ]
  },
  {
   "cell_type": "code",
   "execution_count": 13,
   "metadata": {},
   "outputs": [
    {
     "data": {
      "text/plain": [
       "[{'nombre': 'Camisa', 'precio': 20, 'cantidad': 45},\n",
       " {'nombre': 'Pantalón', 'precio': 30, 'cantidad': 65},\n",
       " {'nombre': 'Camiseta', 'precio': 15, 'cantidad': 100}]"
      ]
     },
     "execution_count": 13,
     "metadata": {},
     "output_type": "execute_result"
    }
   ],
   "source": [
    "tienda.inventario"
   ]
  },
  {
   "cell_type": "code",
   "execution_count": 16,
   "metadata": {},
   "outputs": [],
   "source": [
    "tienda.actualiza_stock(\"Camiseta\", 55)"
   ]
  },
  {
   "cell_type": "code",
   "execution_count": 17,
   "metadata": {},
   "outputs": [
    {
     "data": {
      "text/plain": [
       "[{'nombre': 'Camisa', 'precio': 20, 'cantidad': 45},\n",
       " {'nombre': 'Pantalón', 'precio': 30, 'cantidad': 65},\n",
       " {'nombre': 'Camiseta', 'precio': 15, 'cantidad': 45}]"
      ]
     },
     "execution_count": 17,
     "metadata": {},
     "output_type": "execute_result"
    }
   ],
   "source": [
    "tienda.inventario"
   ]
  },
  {
   "cell_type": "code",
   "execution_count": 18,
   "metadata": {},
   "outputs": [
    {
     "name": "stdout",
     "output_type": "stream",
     "text": [
      "Error: Zapato no está en el inventario\n"
     ]
    }
   ],
   "source": [
    "tienda.actualiza_stock(\"Zapato\", 55)"
   ]
  }
 ],
 "metadata": {
  "kernelspec": {
   "display_name": "base",
   "language": "python",
   "name": "python3"
  },
  "language_info": {
   "codemirror_mode": {
    "name": "ipython",
    "version": 3
   },
   "file_extension": ".py",
   "mimetype": "text/x-python",
   "name": "python",
   "nbconvert_exporter": "python",
   "pygments_lexer": "ipython3",
   "version": "3.12.7"
  }
 },
 "nbformat": 4,
 "nbformat_minor": 2
}
