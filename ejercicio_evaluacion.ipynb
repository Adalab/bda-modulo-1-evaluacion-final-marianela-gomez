{
 "cells": [
  {
   "cell_type": "code",
   "execution_count": 1,
   "metadata": {},
   "outputs": [],
   "source": [
    "class TiendaOnline:\n",
    "    \n",
    "    def __init__(self, ventas_totales = 0):\n",
    "        \n",
    "        self.inventario = [] #lista de diccionarios {\"nombre\": str, \"precio\": int, \"cantidad\": int}\n",
    "        \n",
    "        self.ventas_totales = ventas_totales\n",
    "        \n",
    "        # Añadir aquí productos puede ser útil (se repite en varios métodos) \n",
    "        # Uso la lista productos porque se hace la iteración dentro del bucle for, comprueba cada diccionario y ejecuta la acción para cada producto, lo que hace que agregue directamente algo aunque ya exista.\n",
    "        \n",
    "    def agregar_producto(self, nombre, precio, cantidad): \n",
    "        \n",
    "        if len(self.inventario) > 0: # Comprobar si la lista inventario está vacía\n",
    "            \n",
    "            productos = [self.inventario[i][\"nombre\"] for i in range(len(self.inventario))] #con esto, es posible ver si un producto existe. \n",
    "            \n",
    "            if nombre not in productos:\n",
    "                    \n",
    "                self.inventario.append({\"nombre\": nombre, \"precio\": precio, \"cantidad\": cantidad})\n",
    "            \n",
    "            for producto in self.inventario:\n",
    "                \n",
    "                if producto[\"nombre\"] == nombre and producto[\"precio\"] == precio:\n",
    "                    \n",
    "                    producto[\"cantidad\"] += cantidad\n",
    "        \n",
    "        else:\n",
    "            self.inventario.append({\"nombre\": nombre, \"precio\": precio, \"cantidad\": cantidad})\n",
    "    \n",
    "    def ver_inventario(self): \n",
    "    \n",
    "        for producto in self.inventario:\n",
    "            print (f\"✏️Nombre: {producto[\"nombre\"]}\\n💵Precio: {producto[\"precio\"]}€\\n📦Cantidad: {producto[\"cantidad\"]}\\n{\"=\"*50}\")\n",
    "    \n",
    "    def buscar_producto(self, nombre):\n",
    "        \n",
    "        for producto in self.inventario:\n",
    "            \n",
    "            if producto[\"nombre\"] == nombre:\n",
    "                print(f\"✏️Nombre: {producto[\"nombre\"]}\\n💵Precio: {producto[\"precio\"]}€\\n📦Cantidad: {producto[\"cantidad\"]}\\n\")\n",
    "            else:\n",
    "                print(f\"{nombre} no aparece en el inventario\")\n",
    "                \n",
    "    def actualiza_stock (self, nombre, cantidad):\n",
    "        \n",
    "        productos = [self.inventario[i][\"nombre\"] for i in range(len(self.inventario))]\n",
    "            \n",
    "        if nombre not in productos:\n",
    "                    \n",
    "            print(f\"Error: {nombre} no está en el inventario\")\n",
    "            \n",
    "        for producto in self.inventario:\n",
    "                \n",
    "            if producto[\"nombre\"] == nombre:\n",
    "                \n",
    "                operacion = str(input(\"Indica si quieres agregar (S) o quitar (R) producto:\")).lower()\n",
    "                \n",
    "                if operacion == \"s\":\n",
    "                    \n",
    "                    producto[\"cantidad\"] += cantidad\n",
    "                    \n",
    "                elif operacion == \"r\": \n",
    "                    \n",
    "                    producto[\"cantidad\"] -= cantidad\n",
    "                else:\n",
    "                    \n",
    "                    print(\"Introduce una opción válida\")\n",
    "                    \n",
    "    def eliminar_producto(self, nombre):\n",
    "        \n",
    "        productos = [self.inventario[i][\"nombre\"] for i in range(len(self.inventario))]\n",
    "            \n",
    "        if nombre not in productos:\n",
    "            \n",
    "            print(f\"Error: {nombre} no está en el inventario\")\n",
    "                    \n",
    "        for i in range(len(self.inventario)):\n",
    "            \n",
    "            if nombre == self.inventario[i][\"nombre\"]:\n",
    "                \n",
    "                self.inventario.remove(self.inventario[i])\n",
    "                "
   ]
  },
  {
   "cell_type": "code",
   "execution_count": 2,
   "metadata": {},
   "outputs": [],
   "source": [
    "tienda = TiendaOnline()"
   ]
  },
  {
   "cell_type": "code",
   "execution_count": 3,
   "metadata": {},
   "outputs": [
    {
     "data": {
      "text/plain": [
       "{'inventario': [], 'ventas_totales': 0}"
      ]
     },
     "execution_count": 3,
     "metadata": {},
     "output_type": "execute_result"
    }
   ],
   "source": [
    "tienda.__dict__"
   ]
  },
  {
   "cell_type": "code",
   "execution_count": 4,
   "metadata": {},
   "outputs": [],
   "source": [
    "tienda.agregar_producto(\"Camisa\", 20, 40)"
   ]
  },
  {
   "cell_type": "code",
   "execution_count": 5,
   "metadata": {},
   "outputs": [
    {
     "data": {
      "text/plain": [
       "[{'nombre': 'Camisa', 'precio': 20, 'cantidad': 40}]"
      ]
     },
     "execution_count": 5,
     "metadata": {},
     "output_type": "execute_result"
    }
   ],
   "source": [
    "tienda.inventario"
   ]
  },
  {
   "cell_type": "code",
   "execution_count": 10,
   "metadata": {},
   "outputs": [],
   "source": [
    "tienda.agregar_producto(\"Pantalón\", 30, 30)"
   ]
  },
  {
   "cell_type": "code",
   "execution_count": 11,
   "metadata": {},
   "outputs": [
    {
     "data": {
      "text/plain": [
       "[{'nombre': 'Camisa', 'precio': 20, 'cantidad': 40},\n",
       " {'nombre': 'Pantalón', 'precio': 30, 'cantidad': 95}]"
      ]
     },
     "execution_count": 11,
     "metadata": {},
     "output_type": "execute_result"
    }
   ],
   "source": [
    "tienda.inventario"
   ]
  },
  {
   "cell_type": "code",
   "execution_count": 12,
   "metadata": {},
   "outputs": [],
   "source": [
    "tienda.agregar_producto(\"Pantalón\", 30, 5)"
   ]
  },
  {
   "cell_type": "code",
   "execution_count": 13,
   "metadata": {},
   "outputs": [
    {
     "data": {
      "text/plain": [
       "[{'nombre': 'Camisa', 'precio': 20, 'cantidad': 40},\n",
       " {'nombre': 'Pantalón', 'precio': 30, 'cantidad': 100}]"
      ]
     },
     "execution_count": 13,
     "metadata": {},
     "output_type": "execute_result"
    }
   ],
   "source": [
    "tienda.inventario"
   ]
  },
  {
   "cell_type": "code",
   "execution_count": 14,
   "metadata": {},
   "outputs": [],
   "source": [
    "tienda.agregar_producto(\"Camisa\", 20, 5)"
   ]
  },
  {
   "cell_type": "code",
   "execution_count": 15,
   "metadata": {},
   "outputs": [
    {
     "data": {
      "text/plain": [
       "[{'nombre': 'Camisa', 'precio': 20, 'cantidad': 45},\n",
       " {'nombre': 'Pantalón', 'precio': 30, 'cantidad': 100}]"
      ]
     },
     "execution_count": 15,
     "metadata": {},
     "output_type": "execute_result"
    }
   ],
   "source": [
    "tienda.inventario"
   ]
  },
  {
   "cell_type": "code",
   "execution_count": 16,
   "metadata": {},
   "outputs": [],
   "source": [
    "tienda.agregar_producto(\"Camiseta\", 15, 50)"
   ]
  },
  {
   "cell_type": "code",
   "execution_count": 17,
   "metadata": {},
   "outputs": [
    {
     "data": {
      "text/plain": [
       "[{'nombre': 'Camisa', 'precio': 20, 'cantidad': 45},\n",
       " {'nombre': 'Pantalón', 'precio': 30, 'cantidad': 100},\n",
       " {'nombre': 'Camiseta', 'precio': 15, 'cantidad': 100}]"
      ]
     },
     "execution_count": 17,
     "metadata": {},
     "output_type": "execute_result"
    }
   ],
   "source": [
    "tienda.inventario"
   ]
  },
  {
   "cell_type": "code",
   "execution_count": 16,
   "metadata": {},
   "outputs": [],
   "source": [
    "tienda.actualiza_stock(\"Camiseta\", 55)"
   ]
  },
  {
   "cell_type": "code",
   "execution_count": 18,
   "metadata": {},
   "outputs": [
    {
     "data": {
      "text/plain": [
       "[{'nombre': 'Camisa', 'precio': 20, 'cantidad': 45},\n",
       " {'nombre': 'Pantalón', 'precio': 30, 'cantidad': 100},\n",
       " {'nombre': 'Camiseta', 'precio': 15, 'cantidad': 100}]"
      ]
     },
     "execution_count": 18,
     "metadata": {},
     "output_type": "execute_result"
    }
   ],
   "source": [
    "tienda.inventario"
   ]
  },
  {
   "cell_type": "code",
   "execution_count": 20,
   "metadata": {},
   "outputs": [],
   "source": [
    "tienda.actualiza_stock(\"Camiseta\", 55)"
   ]
  },
  {
   "cell_type": "code",
   "execution_count": 21,
   "metadata": {},
   "outputs": [
    {
     "data": {
      "text/plain": [
       "[{'nombre': 'Camisa', 'precio': 20, 'cantidad': 45},\n",
       " {'nombre': 'Pantalón', 'precio': 30, 'cantidad': 100},\n",
       " {'nombre': 'Camiseta', 'precio': 15, 'cantidad': 45}]"
      ]
     },
     "execution_count": 21,
     "metadata": {},
     "output_type": "execute_result"
    }
   ],
   "source": [
    "tienda.inventario"
   ]
  },
  {
   "cell_type": "code",
   "execution_count": 22,
   "metadata": {},
   "outputs": [],
   "source": [
    "tienda.eliminar_producto(\"Camiseta\")"
   ]
  },
  {
   "cell_type": "code",
   "execution_count": 23,
   "metadata": {},
   "outputs": [
    {
     "data": {
      "text/plain": [
       "[{'nombre': 'Camisa', 'precio': 20, 'cantidad': 45},\n",
       " {'nombre': 'Pantalón', 'precio': 30, 'cantidad': 100}]"
      ]
     },
     "execution_count": 23,
     "metadata": {},
     "output_type": "execute_result"
    }
   ],
   "source": [
    "tienda.inventario"
   ]
  },
  {
   "cell_type": "code",
   "execution_count": 24,
   "metadata": {},
   "outputs": [
    {
     "name": "stdout",
     "output_type": "stream",
     "text": [
      "Error: Zapato no está en el inventario\n"
     ]
    }
   ],
   "source": [
    "tienda.eliminar_producto(\"Zapato\")"
   ]
  },
  {
   "cell_type": "code",
   "execution_count": 25,
   "metadata": {},
   "outputs": [
    {
     "data": {
      "text/plain": [
       "[{'nombre': 'Camisa', 'precio': 20, 'cantidad': 45},\n",
       " {'nombre': 'Pantalón', 'precio': 30, 'cantidad': 100}]"
      ]
     },
     "execution_count": 25,
     "metadata": {},
     "output_type": "execute_result"
    }
   ],
   "source": [
    "tienda.inventario"
   ]
  }
 ],
 "metadata": {
  "kernelspec": {
   "display_name": "base",
   "language": "python",
   "name": "python3"
  },
  "language_info": {
   "codemirror_mode": {
    "name": "ipython",
    "version": 3
   },
   "file_extension": ".py",
   "mimetype": "text/x-python",
   "name": "python",
   "nbconvert_exporter": "python",
   "pygments_lexer": "ipython3",
   "version": "3.12.7"
  }
 },
 "nbformat": 4,
 "nbformat_minor": 2
}
