{
 "cells": [
  {
   "cell_type": "code",
   "execution_count": null,
   "metadata": {},
   "outputs": [],
   "source": [
    "class TiendaOnline:\n",
    "    def __init__(self, ventas_totales = 0):\n",
    "        \n",
    "        self.inventario = [] #lista de diccionarios {\"nombre\": str, \"precio\": int, \"cantidad\": int}\n",
    "        \n",
    "        self.ventas_totales = ventas_totales\n",
    "        \n",
    "    def agregar_producto(self, nombre, precio, cantidad): \n",
    "        \n",
    "        if len(self.inventario) >= 1: # Comprobar si está vacío\n",
    "            \n",
    "            for i in range(len(self.inventario)):\n",
    "                \n",
    "                if nombre not in self.inventario[i].values():\n",
    "                    \n",
    "                    self.inventario.append({\"nombre\": nombre, \"precio\": precio, \"cantidad\": cantidad})\n",
    "            \n",
    "            for producto in self.inventario:\n",
    "                \n",
    "                if producto[\"nombre\"] == nombre and producto[\"precio\"] == precio:\n",
    "                    \n",
    "                    producto[\"cantidad\"] += cantidad\n",
    "        \n",
    "        else:\n",
    "            self.inventario.append({\"nombre\": nombre, \"precio\": precio, \"cantidad\": cantidad})\n",
    "                \n",
    "    "
   ]
  },
  {
   "cell_type": "code",
   "execution_count": 10,
   "metadata": {},
   "outputs": [],
   "source": [
    "inventario = [{'nombre': 'Camisa', 'precio': 20, 'cantidad': 40}]"
   ]
  },
  {
   "cell_type": "code",
   "execution_count": null,
   "metadata": {},
   "outputs": [],
   "source": [
    "\n",
    "def cesta(nombre, precio, cantidad):\n",
    "    \n",
    "    if len(inventario) > 0: # Comprobar si está vacío\n",
    "           \n",
    "        for producto in inventario:\n",
    "            \n",
    "            if producto[\"nombre\"] == nombre and producto[\"precio\"] == precio: \n",
    "            \n",
    "                producto[\"cantidad\"] += cantidad \n",
    "                \n",
    "            else:\n",
    "                 inventario.append({\"nombre\": nombre, \"precio\": precio, \"cantidad\": cantidad})       \n",
    "    else:\n",
    "        inventario.append({\"nombre\": nombre, \"precio\": precio, \"cantidad\": cantidad})"
   ]
  },
  {
   "cell_type": "code",
   "execution_count": 2,
   "metadata": {},
   "outputs": [],
   "source": [
    "inventario = [{'nombre': 'Pantalon', 'precio': 20, 'cantidad': 40}]"
   ]
  },
  {
   "cell_type": "code",
   "execution_count": 11,
   "metadata": {},
   "outputs": [],
   "source": [
    "cesta('Pantalon', 20, 5)"
   ]
  },
  {
   "cell_type": "code",
   "execution_count": 12,
   "metadata": {},
   "outputs": [
    {
     "data": {
      "text/plain": [
       "[{'nombre': 'Pantalon', 'precio': 20, 'cantidad': 45}]"
      ]
     },
     "execution_count": 12,
     "metadata": {},
     "output_type": "execute_result"
    }
   ],
   "source": [
    "inventario"
   ]
  },
  {
   "cell_type": "code",
   "execution_count": 13,
   "metadata": {},
   "outputs": [],
   "source": [
    "cesta('Camisa', 25, 20)"
   ]
  },
  {
   "cell_type": "code",
   "execution_count": 14,
   "metadata": {},
   "outputs": [
    {
     "data": {
      "text/plain": [
       "[{'nombre': 'Pantalon', 'precio': 20, 'cantidad': 45},\n",
       " {'nombre': 'Camisa', 'precio': 25, 'cantidad': 40}]"
      ]
     },
     "execution_count": 14,
     "metadata": {},
     "output_type": "execute_result"
    }
   ],
   "source": [
    "inventario"
   ]
  },
  {
   "cell_type": "code",
   "execution_count": 15,
   "metadata": {},
   "outputs": [],
   "source": [
    "cesta('Camisa', 25, 5)"
   ]
  },
  {
   "cell_type": "code",
   "execution_count": 3,
   "metadata": {},
   "outputs": [
    {
     "data": {
      "text/plain": [
       "[{'nombre': 'Pantalon', 'precio': 20, 'cantidad': 40}]"
      ]
     },
     "execution_count": 3,
     "metadata": {},
     "output_type": "execute_result"
    }
   ],
   "source": [
    "inventario"
   ]
  },
  {
   "cell_type": "code",
   "execution_count": 17,
   "metadata": {},
   "outputs": [],
   "source": [
    "def cesta_2 (nombre, precio, cantidad):\n",
    "    \n",
    "    productos = [inventario[i][\"nombre\"] for i in range(len(inventario))]\n",
    "    \n",
    "    if nombre not in productos:\n",
    "            \n",
    "        inventario.append({\"nombre\": nombre, \"precio\": precio, \"cantidad\": cantidad})       \n",
    "    \n",
    "    for producto in inventario:\n",
    "        \n",
    "        if producto[\"nombre\"] == nombre and producto[\"precio\"] == precio: \n",
    "            \n",
    "             producto[\"cantidad\"] += cantidad \n",
    "        \n",
    "        "
   ]
  },
  {
   "cell_type": "code",
   "execution_count": 18,
   "metadata": {},
   "outputs": [],
   "source": [
    "inventario = [{'nombre': 'Pantalon', 'precio': 20, 'cantidad': 40}, {'nombre': 'camisitagoapa', 'precio': 45, 'cantidad': 180} ]"
   ]
  },
  {
   "cell_type": "code",
   "execution_count": 20,
   "metadata": {},
   "outputs": [
    {
     "data": {
      "text/plain": [
       "[{'nombre': 'Pantalon', 'precio': 20, 'cantidad': 40},\n",
       " {'nombre': 'camisitagoapa', 'precio': 45, 'cantidad': 180}]"
      ]
     },
     "execution_count": 20,
     "metadata": {},
     "output_type": "execute_result"
    }
   ],
   "source": [
    "inventario"
   ]
  },
  {
   "cell_type": "code",
   "execution_count": 21,
   "metadata": {},
   "outputs": [],
   "source": [
    "cesta_2(\"camisitagoapa\", 45, 8)"
   ]
  },
  {
   "cell_type": "code",
   "execution_count": 22,
   "metadata": {},
   "outputs": [
    {
     "data": {
      "text/plain": [
       "[{'nombre': 'Pantalon', 'precio': 20, 'cantidad': 40},\n",
       " {'nombre': 'camisitagoapa', 'precio': 45, 'cantidad': 188}]"
      ]
     },
     "execution_count": 22,
     "metadata": {},
     "output_type": "execute_result"
    }
   ],
   "source": [
    "inventario"
   ]
  },
  {
   "cell_type": "code",
   "execution_count": 23,
   "metadata": {},
   "outputs": [],
   "source": [
    "cesta_2(\"a\", 45, 8)"
   ]
  },
  {
   "cell_type": "code",
   "execution_count": 24,
   "metadata": {},
   "outputs": [
    {
     "data": {
      "text/plain": [
       "[{'nombre': 'Pantalon', 'precio': 20, 'cantidad': 40},\n",
       " {'nombre': 'camisitagoapa', 'precio': 45, 'cantidad': 188},\n",
       " {'nombre': 'a', 'precio': 45, 'cantidad': 16}]"
      ]
     },
     "execution_count": 24,
     "metadata": {},
     "output_type": "execute_result"
    }
   ],
   "source": [
    "inventario"
   ]
  },
  {
   "cell_type": "code",
   "execution_count": 50,
   "metadata": {},
   "outputs": [],
   "source": [
    "def ver_inventario(): \n",
    "    \n",
    "    for producto in inventario:\n",
    "        print (f\"✏️Nombre: {producto[\"nombre\"]}\\n💵Precio: {producto[\"precio\"]}€\\n📦Cantidad: {producto[\"cantidad\"]}\\n{\"=\"*50}\")"
   ]
  },
  {
   "cell_type": "code",
   "execution_count": 31,
   "metadata": {},
   "outputs": [
    {
     "data": {
      "text/plain": [
       "[{'nombre': 'Pantalon', 'precio': 20, 'cantidad': 40},\n",
       " {'nombre': 'camisitagoapa', 'precio': 45, 'cantidad': 188},\n",
       " {'nombre': 'a', 'precio': 45, 'cantidad': 16}]"
      ]
     },
     "execution_count": 31,
     "metadata": {},
     "output_type": "execute_result"
    }
   ],
   "source": [
    "inventario"
   ]
  },
  {
   "cell_type": "code",
   "execution_count": 51,
   "metadata": {},
   "outputs": [
    {
     "name": "stdout",
     "output_type": "stream",
     "text": [
      "✏️Nombre: Pantalon\n",
      "💵Precio: 20€\n",
      "📦Cantidad: 40\n",
      "==================================================\n",
      "✏️Nombre: camisitagoapa\n",
      "💵Precio: 45€\n",
      "📦Cantidad: 188\n",
      "==================================================\n",
      "✏️Nombre: a\n",
      "💵Precio: 45€\n",
      "📦Cantidad: 16\n",
      "==================================================\n"
     ]
    }
   ],
   "source": [
    "ver_inventario()"
   ]
  },
  {
   "cell_type": "code",
   "execution_count": 39,
   "metadata": {},
   "outputs": [
    {
     "name": "stdout",
     "output_type": "stream",
     "text": [
      "{'nombre': 'Pantalon', 'precio': 20, 'cantidad': 40}\n",
      "{'nombre': 'camisitagoapa', 'precio': 45, 'cantidad': 188}\n",
      "{'nombre': 'a', 'precio': 45, 'cantidad': 16}\n"
     ]
    }
   ],
   "source": [
    "for producto in inventario:\n",
    "    print(producto)"
   ]
  },
  {
   "cell_type": "code",
   "execution_count": 69,
   "metadata": {},
   "outputs": [],
   "source": [
    "def buscar_producto(nombre):\n",
    "    \n",
    "    for producto in inventario:\n",
    "        \n",
    "        if producto[\"nombre\"] == nombre:\n",
    "            print(f\"✏️Nombre: {producto[\"nombre\"]}\\n💵Precio: {producto[\"precio\"]}€\\n📦Cantidad: {producto[\"cantidad\"]}\\n\")\n",
    "       \n",
    "\n",
    "                "
   ]
  },
  {
   "cell_type": "code",
   "execution_count": 70,
   "metadata": {},
   "outputs": [
    {
     "name": "stdout",
     "output_type": "stream",
     "text": [
      "✏️Nombre: Pantalon\n",
      "💵Precio: 20€\n",
      "📦Cantidad: 40\n",
      "\n"
     ]
    }
   ],
   "source": [
    "buscar_producto(\"Pantalon\")"
   ]
  },
  {
   "cell_type": "code",
   "execution_count": 71,
   "metadata": {},
   "outputs": [],
   "source": [
    "buscar_producto(\"sdsad\")"
   ]
  },
  {
   "cell_type": "code",
   "execution_count": 65,
   "metadata": {},
   "outputs": [
    {
     "data": {
      "text/plain": [
       "[{'nombre': 'Pantalon', 'precio': 20, 'cantidad': 40},\n",
       " {'nombre': 'camisitagoapa', 'precio': 45, 'cantidad': 188},\n",
       " {'nombre': 'a', 'precio': 45, 'cantidad': 16}]"
      ]
     },
     "execution_count": 65,
     "metadata": {},
     "output_type": "execute_result"
    }
   ],
   "source": [
    "inventario"
   ]
  }
 ],
 "metadata": {
  "kernelspec": {
   "display_name": "base",
   "language": "python",
   "name": "python3"
  },
  "language_info": {
   "codemirror_mode": {
    "name": "ipython",
    "version": 3
   },
   "file_extension": ".py",
   "mimetype": "text/x-python",
   "name": "python",
   "nbconvert_exporter": "python",
   "pygments_lexer": "ipython3",
   "version": "3.12.7"
  }
 },
 "nbformat": 4,
 "nbformat_minor": 2
}
