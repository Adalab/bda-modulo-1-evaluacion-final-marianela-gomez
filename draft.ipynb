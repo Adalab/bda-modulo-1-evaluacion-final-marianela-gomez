{
 "cells": [
  {
   "cell_type": "code",
   "execution_count": 1,
   "metadata": {},
   "outputs": [],
   "source": [
    "class TiendaOnline:\n",
    "    def __init__(self, ventas_totales = 0):\n",
    "        \n",
    "        self.inventario = [] #lista de diccionarios {\"nombre\": str, \"precio\": int, \"cantidad\": int}\n",
    "        \n",
    "        self.ventas_totales = ventas_totales\n",
    "        \n",
    "    def agregar_producto(self, nombre, precio, cantidad): \n",
    "        \n",
    "        if len(self.inventario) >= 1: # Comprobar si está vacío\n",
    "            \n",
    "            for i in range(len(self.inventario)):\n",
    "                \n",
    "                if nombre not in self.inventario[i].values():\n",
    "                    \n",
    "                    self.inventario.append({\"nombre\": nombre, \"precio\": precio, \"cantidad\": cantidad})\n",
    "            \n",
    "            for producto in self.inventario:\n",
    "                \n",
    "                if producto[\"nombre\"] == nombre and producto[\"precio\"] == precio:\n",
    "                    \n",
    "                    producto[\"cantidad\"] += cantidad\n",
    "        \n",
    "        else:\n",
    "            self.inventario.append({\"nombre\": nombre, \"precio\": precio, \"cantidad\": cantidad})\n",
    "                \n",
    "    "
   ]
  },
  {
   "cell_type": "code",
   "execution_count": 2,
   "metadata": {},
   "outputs": [],
   "source": [
    "inventario = [{'nombre': 'Camisa', 'precio': 20, 'cantidad': 40}]"
   ]
  },
  {
   "cell_type": "code",
   "execution_count": 3,
   "metadata": {},
   "outputs": [],
   "source": [
    "\n",
    "def cesta(nombre, precio, cantidad):\n",
    "    \n",
    "    if len(inventario) > 0: # Comprobar si está vacío\n",
    "           \n",
    "        for producto in inventario:\n",
    "            \n",
    "            if producto[\"nombre\"] == nombre and producto[\"precio\"] == precio: \n",
    "            \n",
    "                producto[\"cantidad\"] += cantidad \n",
    "                \n",
    "            else:\n",
    "                 inventario.append({\"nombre\": nombre, \"precio\": precio, \"cantidad\": cantidad})       \n",
    "    else:\n",
    "        inventario.append({\"nombre\": nombre, \"precio\": precio, \"cantidad\": cantidad})"
   ]
  },
  {
   "cell_type": "code",
   "execution_count": 4,
   "metadata": {},
   "outputs": [],
   "source": [
    "inventario = [{'nombre': 'Pantalon', 'precio': 20, 'cantidad': 40}]"
   ]
  },
  {
   "cell_type": "code",
   "execution_count": 5,
   "metadata": {},
   "outputs": [],
   "source": [
    "cesta('Pantalon', 20, 5)"
   ]
  },
  {
   "cell_type": "code",
   "execution_count": 6,
   "metadata": {},
   "outputs": [
    {
     "data": {
      "text/plain": [
       "[{'nombre': 'Pantalon', 'precio': 20, 'cantidad': 45}]"
      ]
     },
     "execution_count": 6,
     "metadata": {},
     "output_type": "execute_result"
    }
   ],
   "source": [
    "inventario"
   ]
  },
  {
   "cell_type": "code",
   "execution_count": 7,
   "metadata": {},
   "outputs": [],
   "source": [
    "cesta('Camisa', 25, 20)"
   ]
  },
  {
   "cell_type": "code",
   "execution_count": 8,
   "metadata": {},
   "outputs": [
    {
     "data": {
      "text/plain": [
       "[{'nombre': 'Pantalon', 'precio': 20, 'cantidad': 45},\n",
       " {'nombre': 'Camisa', 'precio': 25, 'cantidad': 40}]"
      ]
     },
     "execution_count": 8,
     "metadata": {},
     "output_type": "execute_result"
    }
   ],
   "source": [
    "inventario"
   ]
  },
  {
   "cell_type": "code",
   "execution_count": 9,
   "metadata": {},
   "outputs": [],
   "source": [
    "cesta('Camisa', 25, 5)"
   ]
  },
  {
   "cell_type": "code",
   "execution_count": 10,
   "metadata": {},
   "outputs": [
    {
     "data": {
      "text/plain": [
       "[{'nombre': 'Pantalon', 'precio': 20, 'cantidad': 45},\n",
       " {'nombre': 'Camisa', 'precio': 25, 'cantidad': 45},\n",
       " {'nombre': 'Camisa', 'precio': 25, 'cantidad': 10}]"
      ]
     },
     "execution_count": 10,
     "metadata": {},
     "output_type": "execute_result"
    }
   ],
   "source": [
    "inventario"
   ]
  },
  {
   "cell_type": "code",
   "execution_count": 11,
   "metadata": {},
   "outputs": [],
   "source": [
    "def cesta_2 (nombre, precio, cantidad):\n",
    "    \n",
    "    productos = [inventario[i][\"nombre\"] for i in range(len(inventario))]\n",
    "    \n",
    "    if nombre not in productos:\n",
    "            \n",
    "        inventario.append({\"nombre\": nombre, \"precio\": precio, \"cantidad\": cantidad})       \n",
    "    \n",
    "    for producto in inventario:\n",
    "        \n",
    "        if producto[\"nombre\"] == nombre and producto[\"precio\"] == precio: \n",
    "            \n",
    "             producto[\"cantidad\"] += cantidad \n",
    "        \n",
    "        "
   ]
  },
  {
   "cell_type": "code",
   "execution_count": 12,
   "metadata": {},
   "outputs": [],
   "source": [
    "inventario = [{'nombre': 'Pantalon', 'precio': 20, 'cantidad': 40}, {'nombre': 'camisitagoapa', 'precio': 45, 'cantidad': 180} ]"
   ]
  },
  {
   "cell_type": "code",
   "execution_count": 13,
   "metadata": {},
   "outputs": [
    {
     "data": {
      "text/plain": [
       "[{'nombre': 'Pantalon', 'precio': 20, 'cantidad': 40},\n",
       " {'nombre': 'camisitagoapa', 'precio': 45, 'cantidad': 180}]"
      ]
     },
     "execution_count": 13,
     "metadata": {},
     "output_type": "execute_result"
    }
   ],
   "source": [
    "inventario"
   ]
  },
  {
   "cell_type": "code",
   "execution_count": 14,
   "metadata": {},
   "outputs": [],
   "source": [
    "cesta_2(\"camisitagoapa\", 45, 8)"
   ]
  },
  {
   "cell_type": "code",
   "execution_count": 15,
   "metadata": {},
   "outputs": [
    {
     "data": {
      "text/plain": [
       "[{'nombre': 'Pantalon', 'precio': 20, 'cantidad': 40},\n",
       " {'nombre': 'camisitagoapa', 'precio': 45, 'cantidad': 188}]"
      ]
     },
     "execution_count": 15,
     "metadata": {},
     "output_type": "execute_result"
    }
   ],
   "source": [
    "inventario"
   ]
  },
  {
   "cell_type": "code",
   "execution_count": 16,
   "metadata": {},
   "outputs": [],
   "source": [
    "cesta_2(\"a\", 45, 8)"
   ]
  },
  {
   "cell_type": "code",
   "execution_count": 17,
   "metadata": {},
   "outputs": [
    {
     "data": {
      "text/plain": [
       "[{'nombre': 'Pantalon', 'precio': 20, 'cantidad': 40},\n",
       " {'nombre': 'camisitagoapa', 'precio': 45, 'cantidad': 188},\n",
       " {'nombre': 'a', 'precio': 45, 'cantidad': 16}]"
      ]
     },
     "execution_count": 17,
     "metadata": {},
     "output_type": "execute_result"
    }
   ],
   "source": [
    "inventario"
   ]
  },
  {
   "cell_type": "code",
   "execution_count": 18,
   "metadata": {},
   "outputs": [],
   "source": [
    "def ver_inventario(): \n",
    "    \n",
    "    for producto in inventario:\n",
    "        print (f\"✏️Nombre: {producto[\"nombre\"]}\\n💵Precio: {producto[\"precio\"]}€\\n📦Cantidad: {producto[\"cantidad\"]}\\n{\"=\"*50}\")"
   ]
  },
  {
   "cell_type": "code",
   "execution_count": 19,
   "metadata": {},
   "outputs": [
    {
     "data": {
      "text/plain": [
       "[{'nombre': 'Pantalon', 'precio': 20, 'cantidad': 40},\n",
       " {'nombre': 'camisitagoapa', 'precio': 45, 'cantidad': 188},\n",
       " {'nombre': 'a', 'precio': 45, 'cantidad': 16}]"
      ]
     },
     "execution_count": 19,
     "metadata": {},
     "output_type": "execute_result"
    }
   ],
   "source": [
    "inventario"
   ]
  },
  {
   "cell_type": "code",
   "execution_count": 20,
   "metadata": {},
   "outputs": [
    {
     "name": "stdout",
     "output_type": "stream",
     "text": [
      "✏️Nombre: Pantalon\n",
      "💵Precio: 20€\n",
      "📦Cantidad: 40\n",
      "==================================================\n",
      "✏️Nombre: camisitagoapa\n",
      "💵Precio: 45€\n",
      "📦Cantidad: 188\n",
      "==================================================\n",
      "✏️Nombre: a\n",
      "💵Precio: 45€\n",
      "📦Cantidad: 16\n",
      "==================================================\n"
     ]
    }
   ],
   "source": [
    "ver_inventario()"
   ]
  },
  {
   "cell_type": "code",
   "execution_count": 21,
   "metadata": {},
   "outputs": [
    {
     "name": "stdout",
     "output_type": "stream",
     "text": [
      "{'nombre': 'Pantalon', 'precio': 20, 'cantidad': 40}\n",
      "{'nombre': 'camisitagoapa', 'precio': 45, 'cantidad': 188}\n",
      "{'nombre': 'a', 'precio': 45, 'cantidad': 16}\n"
     ]
    }
   ],
   "source": [
    "for producto in inventario:\n",
    "    print(producto)"
   ]
  },
  {
   "cell_type": "code",
   "execution_count": 22,
   "metadata": {},
   "outputs": [],
   "source": [
    "def buscar_producto(nombre):\n",
    "    \n",
    "    for producto in inventario:\n",
    "        \n",
    "        if producto[\"nombre\"] == nombre:\n",
    "            print(f\"✏️Nombre: {producto[\"nombre\"]}\\n💵Precio: {producto[\"precio\"]}€\\n📦Cantidad: {producto[\"cantidad\"]}\\n\")\n",
    "       \n",
    "\n",
    "                "
   ]
  },
  {
   "cell_type": "code",
   "execution_count": 23,
   "metadata": {},
   "outputs": [
    {
     "name": "stdout",
     "output_type": "stream",
     "text": [
      "✏️Nombre: Pantalon\n",
      "💵Precio: 20€\n",
      "📦Cantidad: 40\n",
      "\n"
     ]
    }
   ],
   "source": [
    "buscar_producto(\"Pantalon\")"
   ]
  },
  {
   "cell_type": "code",
   "execution_count": 24,
   "metadata": {},
   "outputs": [],
   "source": [
    "buscar_producto(\"sdsad\")"
   ]
  },
  {
   "cell_type": "code",
   "execution_count": 25,
   "metadata": {},
   "outputs": [
    {
     "data": {
      "text/plain": [
       "[{'nombre': 'Pantalon', 'precio': 20, 'cantidad': 40},\n",
       " {'nombre': 'camisitagoapa', 'precio': 45, 'cantidad': 188},\n",
       " {'nombre': 'a', 'precio': 45, 'cantidad': 16}]"
      ]
     },
     "execution_count": 25,
     "metadata": {},
     "output_type": "execute_result"
    }
   ],
   "source": [
    "inventario"
   ]
  },
  {
   "cell_type": "code",
   "execution_count": 47,
   "metadata": {},
   "outputs": [],
   "source": [
    "def actualiza_stock (nombre, cantidad):\n",
    "        \n",
    "        productos = [inventario[i][\"nombre\"] for i in range(len(inventario))]\n",
    "            \n",
    "        if nombre not in productos:\n",
    "                    \n",
    "            print(f\"Error: {nombre} no está en el inventario\")\n",
    "            \n",
    "        for producto in inventario:\n",
    "                \n",
    "            if producto[\"nombre\"] == nombre:\n",
    "                \n",
    "                operacion = str(input(\"Indica si quieres agregar (S) o quitar (R) producto:\")).lower()\n",
    "                \n",
    "                if operacion == \"s\":\n",
    "                    \n",
    "                    producto[\"cantidad\"] += cantidad\n",
    "                    \n",
    "                elif operacion == \"r\": \n",
    "                    \n",
    "                    producto[\"cantidad\"] -= cantidad\n",
    "                \n",
    "                else:\n",
    "                    \n",
    "                    print(\"Introduce una opción válida\")"
   ]
  },
  {
   "cell_type": "code",
   "execution_count": 48,
   "metadata": {},
   "outputs": [
    {
     "data": {
      "text/plain": [
       "[{'nombre': 'Pantalon', 'precio': 20, 'cantidad': 34},\n",
       " {'nombre': 'camisitagoapa', 'precio': 45, 'cantidad': 188},\n",
       " {'nombre': 'a', 'precio': 45, 'cantidad': 31}]"
      ]
     },
     "execution_count": 48,
     "metadata": {},
     "output_type": "execute_result"
    }
   ],
   "source": [
    "inventario"
   ]
  },
  {
   "cell_type": "code",
   "execution_count": 49,
   "metadata": {},
   "outputs": [
    {
     "name": "stdout",
     "output_type": "stream",
     "text": [
      "Error: zapato no está en el inventario\n"
     ]
    }
   ],
   "source": [
    "actualiza_stock(\"zapato\", 50)"
   ]
  },
  {
   "cell_type": "code",
   "execution_count": 50,
   "metadata": {},
   "outputs": [],
   "source": [
    "actualiza_stock(\"a\", 5)"
   ]
  },
  {
   "cell_type": "code",
   "execution_count": 51,
   "metadata": {},
   "outputs": [
    {
     "data": {
      "text/plain": [
       "[{'nombre': 'Pantalon', 'precio': 20, 'cantidad': 34},\n",
       " {'nombre': 'camisitagoapa', 'precio': 45, 'cantidad': 188},\n",
       " {'nombre': 'a', 'precio': 45, 'cantidad': 36}]"
      ]
     },
     "execution_count": 51,
     "metadata": {},
     "output_type": "execute_result"
    }
   ],
   "source": [
    "inventario"
   ]
  },
  {
   "cell_type": "code",
   "execution_count": 53,
   "metadata": {},
   "outputs": [],
   "source": [
    "actualiza_stock(\"camisitagoapa\", 80)"
   ]
  },
  {
   "cell_type": "code",
   "execution_count": 54,
   "metadata": {},
   "outputs": [
    {
     "data": {
      "text/plain": [
       "[{'nombre': 'Pantalon', 'precio': 20, 'cantidad': 34},\n",
       " {'nombre': 'camisitagoapa', 'precio': 45, 'cantidad': 108},\n",
       " {'nombre': 'a', 'precio': 45, 'cantidad': 36}]"
      ]
     },
     "execution_count": 54,
     "metadata": {},
     "output_type": "execute_result"
    }
   ],
   "source": [
    "inventario"
   ]
  },
  {
   "cell_type": "code",
   "execution_count": 55,
   "metadata": {},
   "outputs": [],
   "source": [
    "actualiza_stock(\"camisitagoapa\", 50)"
   ]
  },
  {
   "cell_type": "code",
   "execution_count": 56,
   "metadata": {},
   "outputs": [
    {
     "data": {
      "text/plain": [
       "[{'nombre': 'Pantalon', 'precio': 20, 'cantidad': 34},\n",
       " {'nombre': 'camisitagoapa', 'precio': 45, 'cantidad': 58},\n",
       " {'nombre': 'a', 'precio': 45, 'cantidad': 36}]"
      ]
     },
     "execution_count": 56,
     "metadata": {},
     "output_type": "execute_result"
    }
   ],
   "source": [
    "inventario"
   ]
  },
  {
   "cell_type": "code",
   "execution_count": 57,
   "metadata": {},
   "outputs": [],
   "source": [
    "actualiza_stock(\"a\", 5)"
   ]
  },
  {
   "cell_type": "code",
   "execution_count": 58,
   "metadata": {},
   "outputs": [
    {
     "data": {
      "text/plain": [
       "[{'nombre': 'Pantalon', 'precio': 20, 'cantidad': 34},\n",
       " {'nombre': 'camisitagoapa', 'precio': 45, 'cantidad': 58},\n",
       " {'nombre': 'a', 'precio': 45, 'cantidad': 41}]"
      ]
     },
     "execution_count": 58,
     "metadata": {},
     "output_type": "execute_result"
    }
   ],
   "source": [
    "inventario"
   ]
  },
  {
   "cell_type": "code",
   "execution_count": 92,
   "metadata": {},
   "outputs": [],
   "source": [
    "def eliminar_producto(nombre):\n",
    "    productos = [inventario[i][\"nombre\"] for i in range(len(inventario))]\n",
    "            \n",
    "    if nombre not in productos:\n",
    "        print(f\"Error: {nombre} no está en el inventario\")\n",
    "        \n",
    "    for i in range(len(inventario)):\n",
    "        if nombre == inventario[i][\"nombre\"]:\n",
    "            inventario.remove(inventario[i])"
   ]
  },
  {
   "cell_type": "code",
   "execution_count": 75,
   "metadata": {},
   "outputs": [],
   "source": [
    "nombre = \"Camisita\"\n",
    "\n",
    "for i in range(len(inventario)):\n",
    "    if nombre in inventario[i].values():\n",
    "        print (inventario[i][\"nombre\"])\n"
   ]
  },
  {
   "cell_type": "code",
   "execution_count": 93,
   "metadata": {},
   "outputs": [],
   "source": [
    "inventario = [{'nombre': 'Pantalon', 'precio': 20, 'cantidad': 34},\n",
    " {'nombre': 'camisitagoapa', 'precio': 45, 'cantidad': 58},\n",
    " {'nombre': 'a', 'precio': 45, 'cantidad': 41}]"
   ]
  },
  {
   "cell_type": "code",
   "execution_count": 94,
   "metadata": {},
   "outputs": [
    {
     "data": {
      "text/plain": [
       "[{'nombre': 'Pantalon', 'precio': 20, 'cantidad': 34},\n",
       " {'nombre': 'camisitagoapa', 'precio': 45, 'cantidad': 58},\n",
       " {'nombre': 'a', 'precio': 45, 'cantidad': 41}]"
      ]
     },
     "execution_count": 94,
     "metadata": {},
     "output_type": "execute_result"
    }
   ],
   "source": [
    "inventario"
   ]
  },
  {
   "cell_type": "code",
   "execution_count": 95,
   "metadata": {},
   "outputs": [],
   "source": [
    "eliminar_producto(\"a\")"
   ]
  },
  {
   "cell_type": "code",
   "execution_count": 96,
   "metadata": {},
   "outputs": [
    {
     "data": {
      "text/plain": [
       "[{'nombre': 'Pantalon', 'precio': 20, 'cantidad': 34},\n",
       " {'nombre': 'camisitagoapa', 'precio': 45, 'cantidad': 58}]"
      ]
     },
     "execution_count": 96,
     "metadata": {},
     "output_type": "execute_result"
    }
   ],
   "source": [
    "inventario"
   ]
  },
  {
   "cell_type": "code",
   "execution_count": 97,
   "metadata": {},
   "outputs": [
    {
     "name": "stdout",
     "output_type": "stream",
     "text": [
      "Error: zapato no está en el inventario\n"
     ]
    }
   ],
   "source": [
    "eliminar_producto(\"zapato\")"
   ]
  },
  {
   "cell_type": "code",
   "execution_count": 98,
   "metadata": {},
   "outputs": [
    {
     "data": {
      "text/plain": [
       "[{'nombre': 'Pantalon', 'precio': 20, 'cantidad': 34},\n",
       " {'nombre': 'camisitagoapa', 'precio': 45, 'cantidad': 58}]"
      ]
     },
     "execution_count": 98,
     "metadata": {},
     "output_type": "execute_result"
    }
   ],
   "source": [
    "inventario"
   ]
  },
  {
   "cell_type": "code",
   "execution_count": null,
   "metadata": {},
   "outputs": [],
   "source": [
    "def calcular_valor_invetario():\n",
    "    "
   ]
  }
 ],
 "metadata": {
  "kernelspec": {
   "display_name": "base",
   "language": "python",
   "name": "python3"
  },
  "language_info": {
   "codemirror_mode": {
    "name": "ipython",
    "version": 3
   },
   "file_extension": ".py",
   "mimetype": "text/x-python",
   "name": "python",
   "nbconvert_exporter": "python",
   "pygments_lexer": "ipython3",
   "version": "3.12.7"
  }
 },
 "nbformat": 4,
 "nbformat_minor": 2
}
