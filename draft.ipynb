{
 "cells": [
  {
   "cell_type": "code",
   "execution_count": 1,
   "metadata": {},
   "outputs": [],
   "source": [
    "class TiendaOnline:\n",
    "    def __init__(self, ventas_totales = 0):\n",
    "        \n",
    "        self.inventario = [] #lista de diccionarios {\"nombre\": str, \"precio\": int, \"cantidad\": int}\n",
    "        \n",
    "        self.ventas_totales = ventas_totales\n",
    "        \n",
    "    def agregar_producto(self, nombre, precio, cantidad): \n",
    "        \n",
    "        if len(self.inventario) >= 1: # Comprobar si está vacío\n",
    "            \n",
    "            for i in range(len(self.inventario)):\n",
    "                \n",
    "                if nombre not in self.inventario[i].values():\n",
    "                    \n",
    "                    self.inventario.append({\"nombre\": nombre, \"precio\": precio, \"cantidad\": cantidad})\n",
    "            \n",
    "            for producto in self.inventario:\n",
    "                \n",
    "                if producto[\"nombre\"] == nombre and producto[\"precio\"] == precio:\n",
    "                    \n",
    "                    producto[\"cantidad\"] += cantidad\n",
    "        \n",
    "        else:\n",
    "            self.inventario.append({\"nombre\": nombre, \"precio\": precio, \"cantidad\": cantidad})\n",
    "                \n",
    "    "
   ]
  },
  {
   "cell_type": "code",
   "execution_count": 2,
   "metadata": {},
   "outputs": [],
   "source": [
    "inventario = [{'nombre': 'Camisa', 'precio': 20, 'cantidad': 40}]"
   ]
  },
  {
   "cell_type": "code",
   "execution_count": 3,
   "metadata": {},
   "outputs": [],
   "source": [
    "\n",
    "def cesta(nombre, precio, cantidad):\n",
    "    \n",
    "    if len(inventario) > 0: # Comprobar si está vacío\n",
    "           \n",
    "        for producto in inventario:\n",
    "            \n",
    "            if producto[\"nombre\"] == nombre and producto[\"precio\"] == precio: \n",
    "            \n",
    "                producto[\"cantidad\"] += cantidad \n",
    "                \n",
    "            else:\n",
    "                 inventario.append({\"nombre\": nombre, \"precio\": precio, \"cantidad\": cantidad})       \n",
    "    else:\n",
    "        inventario.append({\"nombre\": nombre, \"precio\": precio, \"cantidad\": cantidad})"
   ]
  },
  {
   "cell_type": "code",
   "execution_count": 4,
   "metadata": {},
   "outputs": [],
   "source": [
    "inventario = [{'nombre': 'Pantalon', 'precio': 20, 'cantidad': 40}]"
   ]
  },
  {
   "cell_type": "code",
   "execution_count": 5,
   "metadata": {},
   "outputs": [],
   "source": [
    "cesta('Pantalon', 20, 5)"
   ]
  },
  {
   "cell_type": "code",
   "execution_count": 6,
   "metadata": {},
   "outputs": [
    {
     "data": {
      "text/plain": [
       "[{'nombre': 'Pantalon', 'precio': 20, 'cantidad': 45}]"
      ]
     },
     "execution_count": 6,
     "metadata": {},
     "output_type": "execute_result"
    }
   ],
   "source": [
    "inventario"
   ]
  },
  {
   "cell_type": "code",
   "execution_count": 7,
   "metadata": {},
   "outputs": [],
   "source": [
    "cesta('Camisa', 25, 20)"
   ]
  },
  {
   "cell_type": "code",
   "execution_count": 8,
   "metadata": {},
   "outputs": [
    {
     "data": {
      "text/plain": [
       "[{'nombre': 'Pantalon', 'precio': 20, 'cantidad': 45},\n",
       " {'nombre': 'Camisa', 'precio': 25, 'cantidad': 40}]"
      ]
     },
     "execution_count": 8,
     "metadata": {},
     "output_type": "execute_result"
    }
   ],
   "source": [
    "inventario"
   ]
  },
  {
   "cell_type": "code",
   "execution_count": 9,
   "metadata": {},
   "outputs": [],
   "source": [
    "cesta('Camisa', 25, 5)"
   ]
  },
  {
   "cell_type": "code",
   "execution_count": 10,
   "metadata": {},
   "outputs": [
    {
     "data": {
      "text/plain": [
       "[{'nombre': 'Pantalon', 'precio': 20, 'cantidad': 45},\n",
       " {'nombre': 'Camisa', 'precio': 25, 'cantidad': 45},\n",
       " {'nombre': 'Camisa', 'precio': 25, 'cantidad': 10}]"
      ]
     },
     "execution_count": 10,
     "metadata": {},
     "output_type": "execute_result"
    }
   ],
   "source": [
    "inventario"
   ]
  },
  {
   "cell_type": "code",
   "execution_count": 11,
   "metadata": {},
   "outputs": [],
   "source": [
    "def cesta_2 (nombre, precio, cantidad):\n",
    "    \n",
    "    productos = [inventario[i][\"nombre\"] for i in range(len(inventario))]\n",
    "    \n",
    "    if nombre not in productos:\n",
    "            \n",
    "        inventario.append({\"nombre\": nombre, \"precio\": precio, \"cantidad\": cantidad})       \n",
    "    \n",
    "    for producto in inventario:\n",
    "        \n",
    "        if producto[\"nombre\"] == nombre and producto[\"precio\"] == precio: \n",
    "            \n",
    "             producto[\"cantidad\"] += cantidad \n",
    "        \n",
    "        "
   ]
  },
  {
   "cell_type": "code",
   "execution_count": 12,
   "metadata": {},
   "outputs": [],
   "source": [
    "inventario = [{'nombre': 'Pantalon', 'precio': 20, 'cantidad': 40}, {'nombre': 'camisitagoapa', 'precio': 45, 'cantidad': 180} ]"
   ]
  },
  {
   "cell_type": "code",
   "execution_count": 13,
   "metadata": {},
   "outputs": [
    {
     "data": {
      "text/plain": [
       "[{'nombre': 'Pantalon', 'precio': 20, 'cantidad': 40},\n",
       " {'nombre': 'camisitagoapa', 'precio': 45, 'cantidad': 180}]"
      ]
     },
     "execution_count": 13,
     "metadata": {},
     "output_type": "execute_result"
    }
   ],
   "source": [
    "inventario"
   ]
  },
  {
   "cell_type": "code",
   "execution_count": 14,
   "metadata": {},
   "outputs": [],
   "source": [
    "cesta_2(\"camisitagoapa\", 45, 8)"
   ]
  },
  {
   "cell_type": "code",
   "execution_count": 15,
   "metadata": {},
   "outputs": [
    {
     "data": {
      "text/plain": [
       "[{'nombre': 'Pantalon', 'precio': 20, 'cantidad': 40},\n",
       " {'nombre': 'camisitagoapa', 'precio': 45, 'cantidad': 188}]"
      ]
     },
     "execution_count": 15,
     "metadata": {},
     "output_type": "execute_result"
    }
   ],
   "source": [
    "inventario"
   ]
  },
  {
   "cell_type": "code",
   "execution_count": 16,
   "metadata": {},
   "outputs": [],
   "source": [
    "cesta_2(\"a\", 45, 8)"
   ]
  },
  {
   "cell_type": "code",
   "execution_count": 17,
   "metadata": {},
   "outputs": [
    {
     "data": {
      "text/plain": [
       "[{'nombre': 'Pantalon', 'precio': 20, 'cantidad': 40},\n",
       " {'nombre': 'camisitagoapa', 'precio': 45, 'cantidad': 188},\n",
       " {'nombre': 'a', 'precio': 45, 'cantidad': 16}]"
      ]
     },
     "execution_count": 17,
     "metadata": {},
     "output_type": "execute_result"
    }
   ],
   "source": [
    "inventario"
   ]
  },
  {
   "cell_type": "code",
   "execution_count": 8,
   "metadata": {},
   "outputs": [],
   "source": [
    "def ver_inventario(): \n",
    "\n",
    "    \n",
    "    for producto in inventario:\n",
    "        print (f\"✏️Nombre: {producto[\"nombre\"]}\\n💵Precio: {producto[\"precio\"]}€\\n📦Cantidad: {producto[\"cantidad\"]}\\n{\"=\"*50}\")\n",
    "   "
   ]
  },
  {
   "cell_type": "code",
   "execution_count": 171,
   "metadata": {},
   "outputs": [
    {
     "data": {
      "text/plain": [
       "[{'nombre': 'Pantalon', 'precio': 20, 'cantidad': 34},\n",
       " {'nombre': 'camisitagoapa', 'precio': 45, 'cantidad': 58}]"
      ]
     },
     "execution_count": 171,
     "metadata": {},
     "output_type": "execute_result"
    }
   ],
   "source": [
    "inventario"
   ]
  },
  {
   "cell_type": "code",
   "execution_count": 172,
   "metadata": {},
   "outputs": [
    {
     "name": "stdout",
     "output_type": "stream",
     "text": [
      "✏️Nombre: Pantalon\n",
      "💵Precio: 20€\n",
      "📦Cantidad: 34\n",
      "==================================================\n",
      "✏️Nombre: camisitagoapa\n",
      "💵Precio: 45€\n",
      "📦Cantidad: 58\n",
      "==================================================\n"
     ]
    }
   ],
   "source": [
    "ver_inventario()"
   ]
  },
  {
   "cell_type": "code",
   "execution_count": 21,
   "metadata": {},
   "outputs": [
    {
     "name": "stdout",
     "output_type": "stream",
     "text": [
      "{'nombre': 'Pantalon', 'precio': 20, 'cantidad': 40}\n",
      "{'nombre': 'camisitagoapa', 'precio': 45, 'cantidad': 188}\n",
      "{'nombre': 'a', 'precio': 45, 'cantidad': 16}\n"
     ]
    }
   ],
   "source": [
    "for producto in inventario:\n",
    "    print(producto)"
   ]
  },
  {
   "cell_type": "code",
   "execution_count": 22,
   "metadata": {},
   "outputs": [],
   "source": [
    "def buscar_producto(nombre):\n",
    "    \n",
    "    for producto in inventario:\n",
    "        \n",
    "        if producto[\"nombre\"] == nombre:\n",
    "            print(f\"✏️Nombre: {producto[\"nombre\"]}\\n💵Precio: {producto[\"precio\"]}€\\n📦Cantidad: {producto[\"cantidad\"]}\\n\")\n",
    "       \n",
    "\n",
    "                "
   ]
  },
  {
   "cell_type": "code",
   "execution_count": 23,
   "metadata": {},
   "outputs": [
    {
     "name": "stdout",
     "output_type": "stream",
     "text": [
      "✏️Nombre: Pantalon\n",
      "💵Precio: 20€\n",
      "📦Cantidad: 40\n",
      "\n"
     ]
    }
   ],
   "source": [
    "buscar_producto(\"Pantalon\")"
   ]
  },
  {
   "cell_type": "code",
   "execution_count": 24,
   "metadata": {},
   "outputs": [],
   "source": [
    "buscar_producto(\"sdsad\")"
   ]
  },
  {
   "cell_type": "code",
   "execution_count": 25,
   "metadata": {},
   "outputs": [
    {
     "data": {
      "text/plain": [
       "[{'nombre': 'Pantalon', 'precio': 20, 'cantidad': 40},\n",
       " {'nombre': 'camisitagoapa', 'precio': 45, 'cantidad': 188},\n",
       " {'nombre': 'a', 'precio': 45, 'cantidad': 16}]"
      ]
     },
     "execution_count": 25,
     "metadata": {},
     "output_type": "execute_result"
    }
   ],
   "source": [
    "inventario"
   ]
  },
  {
   "cell_type": "code",
   "execution_count": 10,
   "metadata": {},
   "outputs": [],
   "source": [
    "def actualiza_stock (nombre, cantidad):\n",
    "        \n",
    "        productos = [inventario[i][\"nombre\"] for i in range(len(inventario))]\n",
    "            \n",
    "        if nombre not in productos:\n",
    "                    \n",
    "            print(f\"Error: {nombre} no está en el inventario\")\n",
    "            \n",
    "        for producto in inventario:\n",
    "                \n",
    "            if producto[\"nombre\"] == nombre:\n",
    "                \n",
    "                operacion = str(input(\"Indica si quieres agregar (S) o quitar (R) producto:\")).lower()\n",
    "                \n",
    "                if operacion == \"s\":\n",
    "                    \n",
    "                    producto[\"cantidad\"] += cantidad\n",
    "                    \n",
    "                elif operacion == \"r\": \n",
    "                    \n",
    "                    producto[\"cantidad\"] -= cantidad\n",
    "                \n",
    "                else:\n",
    "                    \n",
    "                    print(\"Introduce una opción válida\")"
   ]
  },
  {
   "cell_type": "code",
   "execution_count": 48,
   "metadata": {},
   "outputs": [
    {
     "data": {
      "text/plain": [
       "[{'nombre': 'Pantalon', 'precio': 20, 'cantidad': 34},\n",
       " {'nombre': 'camisitagoapa', 'precio': 45, 'cantidad': 188},\n",
       " {'nombre': 'a', 'precio': 45, 'cantidad': 31}]"
      ]
     },
     "execution_count": 48,
     "metadata": {},
     "output_type": "execute_result"
    }
   ],
   "source": [
    "inventario"
   ]
  },
  {
   "cell_type": "code",
   "execution_count": 49,
   "metadata": {},
   "outputs": [
    {
     "name": "stdout",
     "output_type": "stream",
     "text": [
      "Error: zapato no está en el inventario\n"
     ]
    }
   ],
   "source": [
    "actualiza_stock(\"zapato\", 50)"
   ]
  },
  {
   "cell_type": "code",
   "execution_count": 50,
   "metadata": {},
   "outputs": [],
   "source": [
    "actualiza_stock(\"a\", 5)"
   ]
  },
  {
   "cell_type": "code",
   "execution_count": 51,
   "metadata": {},
   "outputs": [
    {
     "data": {
      "text/plain": [
       "[{'nombre': 'Pantalon', 'precio': 20, 'cantidad': 34},\n",
       " {'nombre': 'camisitagoapa', 'precio': 45, 'cantidad': 188},\n",
       " {'nombre': 'a', 'precio': 45, 'cantidad': 36}]"
      ]
     },
     "execution_count": 51,
     "metadata": {},
     "output_type": "execute_result"
    }
   ],
   "source": [
    "inventario"
   ]
  },
  {
   "cell_type": "code",
   "execution_count": 53,
   "metadata": {},
   "outputs": [],
   "source": [
    "actualiza_stock(\"camisitagoapa\", 80)"
   ]
  },
  {
   "cell_type": "code",
   "execution_count": 54,
   "metadata": {},
   "outputs": [
    {
     "data": {
      "text/plain": [
       "[{'nombre': 'Pantalon', 'precio': 20, 'cantidad': 34},\n",
       " {'nombre': 'camisitagoapa', 'precio': 45, 'cantidad': 108},\n",
       " {'nombre': 'a', 'precio': 45, 'cantidad': 36}]"
      ]
     },
     "execution_count": 54,
     "metadata": {},
     "output_type": "execute_result"
    }
   ],
   "source": [
    "inventario"
   ]
  },
  {
   "cell_type": "code",
   "execution_count": 55,
   "metadata": {},
   "outputs": [],
   "source": [
    "actualiza_stock(\"camisitagoapa\", 50)"
   ]
  },
  {
   "cell_type": "code",
   "execution_count": 56,
   "metadata": {},
   "outputs": [
    {
     "data": {
      "text/plain": [
       "[{'nombre': 'Pantalon', 'precio': 20, 'cantidad': 34},\n",
       " {'nombre': 'camisitagoapa', 'precio': 45, 'cantidad': 58},\n",
       " {'nombre': 'a', 'precio': 45, 'cantidad': 36}]"
      ]
     },
     "execution_count": 56,
     "metadata": {},
     "output_type": "execute_result"
    }
   ],
   "source": [
    "inventario"
   ]
  },
  {
   "cell_type": "code",
   "execution_count": 57,
   "metadata": {},
   "outputs": [],
   "source": [
    "actualiza_stock(\"a\", 5)"
   ]
  },
  {
   "cell_type": "code",
   "execution_count": 58,
   "metadata": {},
   "outputs": [
    {
     "data": {
      "text/plain": [
       "[{'nombre': 'Pantalon', 'precio': 20, 'cantidad': 34},\n",
       " {'nombre': 'camisitagoapa', 'precio': 45, 'cantidad': 58},\n",
       " {'nombre': 'a', 'precio': 45, 'cantidad': 41}]"
      ]
     },
     "execution_count": 58,
     "metadata": {},
     "output_type": "execute_result"
    }
   ],
   "source": [
    "inventario"
   ]
  },
  {
   "cell_type": "code",
   "execution_count": 92,
   "metadata": {},
   "outputs": [],
   "source": [
    "def eliminar_producto(nombre):\n",
    "    productos = [inventario[i][\"nombre\"] for i in range(len(inventario))]\n",
    "            \n",
    "    if nombre not in productos:\n",
    "        print(f\"Error: {nombre} no está en el inventario\")\n",
    "        \n",
    "    for i in range(len(inventario)):\n",
    "        if nombre == inventario[i][\"nombre\"]:\n",
    "            inventario.remove(inventario[i])"
   ]
  },
  {
   "cell_type": "code",
   "execution_count": 75,
   "metadata": {},
   "outputs": [],
   "source": [
    "nombre = \"Camisita\"\n",
    "\n",
    "for i in range(len(inventario)):\n",
    "    if nombre in inventario[i].values():\n",
    "        print (inventario[i][\"nombre\"])\n"
   ]
  },
  {
   "cell_type": "code",
   "execution_count": 93,
   "metadata": {},
   "outputs": [],
   "source": [
    "inventario = [{'nombre': 'Pantalon', 'precio': 20, 'cantidad': 34},\n",
    " {'nombre': 'camisitagoapa', 'precio': 45, 'cantidad': 58},\n",
    " {'nombre': 'a', 'precio': 45, 'cantidad': 41}]"
   ]
  },
  {
   "cell_type": "code",
   "execution_count": 94,
   "metadata": {},
   "outputs": [
    {
     "data": {
      "text/plain": [
       "[{'nombre': 'Pantalon', 'precio': 20, 'cantidad': 34},\n",
       " {'nombre': 'camisitagoapa', 'precio': 45, 'cantidad': 58},\n",
       " {'nombre': 'a', 'precio': 45, 'cantidad': 41}]"
      ]
     },
     "execution_count": 94,
     "metadata": {},
     "output_type": "execute_result"
    }
   ],
   "source": [
    "inventario"
   ]
  },
  {
   "cell_type": "code",
   "execution_count": 95,
   "metadata": {},
   "outputs": [],
   "source": [
    "eliminar_producto(\"a\")"
   ]
  },
  {
   "cell_type": "code",
   "execution_count": 96,
   "metadata": {},
   "outputs": [
    {
     "data": {
      "text/plain": [
       "[{'nombre': 'Pantalon', 'precio': 20, 'cantidad': 34},\n",
       " {'nombre': 'camisitagoapa', 'precio': 45, 'cantidad': 58}]"
      ]
     },
     "execution_count": 96,
     "metadata": {},
     "output_type": "execute_result"
    }
   ],
   "source": [
    "inventario"
   ]
  },
  {
   "cell_type": "code",
   "execution_count": 97,
   "metadata": {},
   "outputs": [
    {
     "name": "stdout",
     "output_type": "stream",
     "text": [
      "Error: zapato no está en el inventario\n"
     ]
    }
   ],
   "source": [
    "eliminar_producto(\"zapato\")"
   ]
  },
  {
   "cell_type": "code",
   "execution_count": 98,
   "metadata": {},
   "outputs": [
    {
     "data": {
      "text/plain": [
       "[{'nombre': 'Pantalon', 'precio': 20, 'cantidad': 34},\n",
       " {'nombre': 'camisitagoapa', 'precio': 45, 'cantidad': 58}]"
      ]
     },
     "execution_count": 98,
     "metadata": {},
     "output_type": "execute_result"
    }
   ],
   "source": [
    "inventario"
   ]
  },
  {
   "cell_type": "code",
   "execution_count": 99,
   "metadata": {},
   "outputs": [],
   "source": [
    "def calcular_valor_invetario():\n",
    "    \n",
    "    total = []\n",
    "    \n",
    "    for producto in inventario:\n",
    "        total.append(producto[\"precio\"] * producto [\"cantidad\"])\n",
    "        \n",
    "    print(sum(total))"
   ]
  },
  {
   "cell_type": "code",
   "execution_count": 100,
   "metadata": {},
   "outputs": [
    {
     "name": "stdout",
     "output_type": "stream",
     "text": [
      "3290\n"
     ]
    }
   ],
   "source": [
    "calcular_valor_invetario()"
   ]
  },
  {
   "cell_type": "code",
   "execution_count": 101,
   "metadata": {},
   "outputs": [],
   "source": [
    "def calcular_valor_invetario_2():\n",
    "    \n",
    "    print(sum([producto[\"precio\"] * producto[\"cantidad\"] for producto in inventario]))"
   ]
  },
  {
   "cell_type": "code",
   "execution_count": 102,
   "metadata": {},
   "outputs": [
    {
     "name": "stdout",
     "output_type": "stream",
     "text": [
      "3290\n"
     ]
    }
   ],
   "source": [
    "calcular_valor_invetario_2()"
   ]
  },
  {
   "cell_type": "code",
   "execution_count": 109,
   "metadata": {},
   "outputs": [],
   "source": [
    "clientes = {\"Pepe\":{\"email\":\"pepito@misitio.com\", \"compras\":[]}}"
   ]
  },
  {
   "cell_type": "code",
   "execution_count": 110,
   "metadata": {},
   "outputs": [
    {
     "data": {
      "text/plain": [
       "1"
      ]
     },
     "execution_count": 110,
     "metadata": {},
     "output_type": "execute_result"
    }
   ],
   "source": [
    "len(clientes)"
   ]
  },
  {
   "cell_type": "code",
   "execution_count": 7,
   "metadata": {},
   "outputs": [],
   "source": [
    "def agrega_cliente(nombre, email):\n",
    "    \n",
    "    if nombre in clientes.keys():\n",
    "        print(f\"{nombre} ya exite, elige un nombre distinto\")\n",
    "    else:\n",
    "        clientes.update({nombre:{\"email\": email, \"compras\": []}})\n",
    "    "
   ]
  },
  {
   "cell_type": "code",
   "execution_count": 121,
   "metadata": {},
   "outputs": [
    {
     "data": {
      "text/plain": [
       "{'Pepe': {'email': 'pepito@misitio.com', 'compras': []},\n",
       " 'Paca': {'email': 'algo@algo.com', 'compras': []}}"
      ]
     },
     "execution_count": 121,
     "metadata": {},
     "output_type": "execute_result"
    }
   ],
   "source": [
    "clientes"
   ]
  },
  {
   "cell_type": "code",
   "execution_count": 122,
   "metadata": {},
   "outputs": [
    {
     "name": "stdout",
     "output_type": "stream",
     "text": [
      "Paca ya exite, elige un nombre distinto\n"
     ]
    }
   ],
   "source": [
    "agrega_cliente(\"Paca\", \"paquitasalas@algo.com\")"
   ]
  },
  {
   "cell_type": "code",
   "execution_count": 123,
   "metadata": {},
   "outputs": [
    {
     "data": {
      "text/plain": [
       "{'Pepe': {'email': 'pepito@misitio.com', 'compras': []},\n",
       " 'Paca': {'email': 'algo@algo.com', 'compras': []}}"
      ]
     },
     "execution_count": 123,
     "metadata": {},
     "output_type": "execute_result"
    }
   ],
   "source": [
    "clientes"
   ]
  },
  {
   "cell_type": "code",
   "execution_count": null,
   "metadata": {},
   "outputs": [],
   "source": [
    "def agrega_cliente_2(nombre, email):\n",
    "    \n",
    "    if nombre in clientes.keys():\n",
    "        \n",
    "        print(f\"{nombre} ya exite, elige un nombre distinto\")\n",
    "    else:\n",
    "        clientes.setdefault(nombre, {\"email\": email, \"compras\": []})\n",
    "    "
   ]
  },
  {
   "cell_type": "code",
   "execution_count": 135,
   "metadata": {},
   "outputs": [
    {
     "name": "stdout",
     "output_type": "stream",
     "text": [
      "Paca ya exite, elige un nombre distinto\n"
     ]
    }
   ],
   "source": [
    "agrega_cliente(\"Paca\", \"paquitasalas@algo.com\")"
   ]
  },
  {
   "cell_type": "code",
   "execution_count": 133,
   "metadata": {},
   "outputs": [
    {
     "data": {
      "text/plain": [
       "{'Pepe': {'email': 'pepito@misitio.com', 'compras': []},\n",
       " 'Paca': {'email': 'algo@algo.com', 'compras': []}}"
      ]
     },
     "execution_count": 133,
     "metadata": {},
     "output_type": "execute_result"
    }
   ],
   "source": [
    "clientes"
   ]
  },
  {
   "cell_type": "code",
   "execution_count": 129,
   "metadata": {},
   "outputs": [
    {
     "data": {
      "text/plain": [
       "{'email': 'algo@algo.com', 'compras': []}"
      ]
     },
     "execution_count": 129,
     "metadata": {},
     "output_type": "execute_result"
    }
   ],
   "source": [
    "clientes.setdefault(\"Paca\")"
   ]
  },
  {
   "cell_type": "code",
   "execution_count": 130,
   "metadata": {},
   "outputs": [
    {
     "data": {
      "text/plain": [
       "{'Pepe': {'email': 'pepito@misitio.com', 'compras': []},\n",
       " 'Paca': {'email': 'algo@algo.com', 'compras': []}}"
      ]
     },
     "execution_count": 130,
     "metadata": {},
     "output_type": "execute_result"
    }
   ],
   "source": [
    "clientes"
   ]
  },
  {
   "cell_type": "code",
   "execution_count": 153,
   "metadata": {},
   "outputs": [],
   "source": [
    "def ver_clientes():\n",
    "    \n",
    "    for nombre in clientes.keys():\n",
    "        \n",
    "        print(f\"✏️Nombre: {nombre}\\n📧Correo electrónico: {clientes[nombre][\"email\"]}\\n\")"
   ]
  },
  {
   "cell_type": "code",
   "execution_count": 154,
   "metadata": {},
   "outputs": [
    {
     "name": "stdout",
     "output_type": "stream",
     "text": [
      "✏️Nombre: Pepe\n",
      "📧Correo electrónico: pepito@misitio.com\n",
      "\n",
      "✏️Nombre: Paca\n",
      "📧Correo electrónico: algo@algo.com\n",
      "\n"
     ]
    }
   ],
   "source": [
    "ver_clientes()"
   ]
  },
  {
   "cell_type": "code",
   "execution_count": null,
   "metadata": {},
   "outputs": [],
   "source": [
    "carrito = [] ## Esto donde va??!! \n",
    "\n",
    "# Carrito tiene que ser compras en clientes "
   ]
  },
  {
   "cell_type": "code",
   "execution_count": 264,
   "metadata": {},
   "outputs": [],
   "source": [
    "def realizar_compra():\n",
    "    \n",
    "    \n",
    "    print(f\"Bienvenid@ a Supertienda 😊\\nEcha un vistazo a nuestro catálogo:👇🏻\\n\")\n",
    " \n",
    "    ver_inventario()\n",
    "    # for producto in inventario: # Esto es igual que ver_catalogo()\n",
    "    #     print(f\"Producto: {producto[\"nombre\"]}\\nPrecio: {producto[\"precio\"]} €\\n{\"=\"*50}\")\n",
    "    \n",
    "    articulo = (input(\"Ingresa el nombre del producto que quieras agregar al carrito:\"))\n",
    "    \n",
    "    cantidad = int(input(\"Ingresa el número de artículos que deseas comprar:\"))\n",
    "    \n",
    "    \n",
    "    productos = [inventario[i][\"nombre\"] for i in range(len(inventario))]\n",
    "    \n",
    "    if articulo in productos:\n",
    "        for producto in inventario:\n",
    "        \n",
    "            if articulo == producto[\"nombre\"]:\n",
    "            \n",
    "                confirm = input(f\"Vas a comprar {cantidad} {producto[\"nombre\"]}. ¿Es correcto? S/N\").lower()\n",
    "            \n",
    "                if confirm == \"s\":\n",
    "            \n",
    "                    carrito.append({\"articulo\": articulo, \"cantidad\": cantidad, \"precio\": producto[\"precio\"]})\n",
    "                \n",
    "                    actualiza_stock(articulo, cantidad)\n",
    "        \n",
    "        print(f\"El total de su compra es {sum([carrito[i][\"cantidad\"]*carrito[i][\"precio\"] for i in range (len(carrito))])}\")\n",
    "                \n",
    "    else: \n",
    "        print(f\"Aún no vendemos {articulo}\")\n",
    "        \n",
    "    \n",
    "            \n",
    "    \n",
    "    "
   ]
  },
  {
   "cell_type": "code",
   "execution_count": 258,
   "metadata": {},
   "outputs": [
    {
     "data": {
      "text/plain": [
       "[{'nombre': 'Pantalon', 'precio': 20, 'cantidad': 28},\n",
       " {'nombre': 'camisitagoapa', 'precio': 45, 'cantidad': 50}]"
      ]
     },
     "execution_count": 258,
     "metadata": {},
     "output_type": "execute_result"
    }
   ],
   "source": [
    "inventario"
   ]
  },
  {
   "cell_type": "code",
   "execution_count": 265,
   "metadata": {},
   "outputs": [
    {
     "name": "stdout",
     "output_type": "stream",
     "text": [
      "Bienvenid@ a Supertienda 😊\n",
      "Echa un vistazo a nuestro catálogo:👇🏻\n",
      "\n",
      "✏️Nombre: Pantalon\n",
      "💵Precio: 20€\n",
      "📦Cantidad: 28\n",
      "==================================================\n",
      "✏️Nombre: camisitagoapa\n",
      "💵Precio: 45€\n",
      "📦Cantidad: 50\n",
      "==================================================\n",
      "El total de su compra es 500\n"
     ]
    }
   ],
   "source": [
    "realizar_compra()"
   ]
  },
  {
   "cell_type": "code",
   "execution_count": 268,
   "metadata": {},
   "outputs": [
    {
     "data": {
      "text/plain": [
       "[{'articulo': 'Pantalon', 'cantidad': 4, 'precio': 20},\n",
       " {'articulo': 'camisitagoapa', 'cantidad': 8, 'precio': 45},\n",
       " {'articulo': 'Pantalon', 'cantidad': 2, 'precio': 20},\n",
       " {'articulo': 'Pantalon', 'cantidad': 1, 'precio': 20}]"
      ]
     },
     "execution_count": 268,
     "metadata": {},
     "output_type": "execute_result"
    }
   ],
   "source": [
    "carrito"
   ]
  },
  {
   "cell_type": "code",
   "execution_count": 253,
   "metadata": {},
   "outputs": [
    {
     "data": {
      "text/plain": [
       "[{'nombre': 'Pantalon', 'precio': 20, 'cantidad': 28},\n",
       " {'nombre': 'camisitagoapa', 'precio': 45, 'cantidad': 50}]"
      ]
     },
     "execution_count": 253,
     "metadata": {},
     "output_type": "execute_result"
    }
   ],
   "source": [
    "inventario"
   ]
  },
  {
   "cell_type": "code",
   "execution_count": 271,
   "metadata": {},
   "outputs": [],
   "source": [
    "l =[carrito[i][\"cantidad\"]*carrito[i][\"precio\"] for i in range (len(carrito))]"
   ]
  },
  {
   "cell_type": "code",
   "execution_count": 272,
   "metadata": {},
   "outputs": [
    {
     "data": {
      "text/plain": [
       "[80, 360, 40, 20]"
      ]
     },
     "execution_count": 272,
     "metadata": {},
     "output_type": "execute_result"
    }
   ],
   "source": [
    "l"
   ]
  },
  {
   "cell_type": "code",
   "execution_count": 273,
   "metadata": {},
   "outputs": [
    {
     "data": {
      "text/plain": [
       "{'Pepe': {'email': 'pepito@misitio.com', 'compras': []},\n",
       " 'Paca': {'email': 'algo@algo.com', 'compras': []}}"
      ]
     },
     "execution_count": 273,
     "metadata": {},
     "output_type": "execute_result"
    }
   ],
   "source": [
    "clientes"
   ]
  },
  {
   "cell_type": "code",
   "execution_count": 274,
   "metadata": {},
   "outputs": [
    {
     "data": {
      "text/plain": [
       "[]"
      ]
     },
     "execution_count": 274,
     "metadata": {},
     "output_type": "execute_result"
    }
   ],
   "source": [
    "clientes[\"Pepe\"][\"compras\"]"
   ]
  },
  {
   "cell_type": "code",
   "execution_count": 318,
   "metadata": {},
   "outputs": [],
   "source": [
    "def realizar_compra_2():\n",
    "\n",
    "    print(f\"Bienvenid@ a Supertienda 😊\\nEcha un vistazo a nuestro catálogo\\n\")\n",
    "\n",
    "    cliente = input(\"Introduce tu nombre:\")\n",
    "\n",
    "    if cliente in clientes.keys():\n",
    "        \n",
    "        ver_inventario()\n",
    "            # for producto in inventario: # Esto es igual que ver_catalogo()\n",
    "            #     print(f\"Producto: {producto[\"nombre\"]}\\nPrecio: {producto[\"precio\"]} €\\n{\"=\"*50}\")\n",
    "            \n",
    "        articulo = (input(\"Ingresa el nombre del producto que quieras agregar al carrito:\"))\n",
    "            \n",
    "        cantidad = int(input(\"Ingresa el número de artículos que deseas comprar:\"))\n",
    "            \n",
    "            \n",
    "        productos = [inventario[i][\"nombre\"] for i in range(len(inventario))]\n",
    "            \n",
    "        if articulo in productos:\n",
    "            \n",
    "            for producto in inventario:\n",
    "                \n",
    "                if articulo == producto[\"nombre\"]:\n",
    "                    \n",
    "                    confirm = input(f\"Vas a comprar {cantidad} {producto[\"nombre\"]}. ¿Es correcto? S/N\").lower()\n",
    "                    \n",
    "                    if confirm == \"s\":\n",
    "                    \n",
    "                        clientes[cliente][\"compras\"].append({\"articulo\": articulo, \"cantidad\": cantidad, \"precio\": producto[\"precio\"]})\n",
    "                        \n",
    "                        actualiza_stock(articulo, cantidad)\n",
    "                        \n",
    "                        #Muestra el resultado de las compras del cliente!!\n",
    "                        \n",
    "            \n",
    "            print (f\"{cliente}, has gastado {sum(clientes[cliente][\"compras\"][i][\"cantidad\"] * clientes[cliente][\"compras\"][i][\"precio\"] for i in range(len(clientes[cliente][\"compras\"])))}€\")\n",
    "        \n",
    "                        \n",
    "        else: \n",
    "            print(f\"Aún no vendemos {articulo}\")\n",
    "                \n",
    "    else: \n",
    "        \n",
    "        nombre = input(\"Debes crear una cuenta de cliente. Introduce tu nombre\")\n",
    "        \n",
    "        email = input(\"Introduce tu email\")\n",
    "        \n",
    "        agrega_cliente(nombre, email)\n",
    "        "
   ]
  },
  {
   "cell_type": "code",
   "execution_count": 310,
   "metadata": {},
   "outputs": [
    {
     "data": {
      "text/plain": [
       "[{'articulo': 'camisitagoapa', 'cantidad': 1, 'precio': 45}]"
      ]
     },
     "execution_count": 310,
     "metadata": {},
     "output_type": "execute_result"
    }
   ],
   "source": [
    "clientes[\"Carmen\"][\"compras\"]"
   ]
  },
  {
   "cell_type": "code",
   "execution_count": 297,
   "metadata": {},
   "outputs": [],
   "source": [
    "clientes[\"Paca\"][\"compras\"] = [{\"producto\": \"Pantalon\", \"cantidad\": 2, \"precio\": 20}, {\"producto\": \"camisa\", \"cantidad\": 1, \"precio\": 15}]"
   ]
  },
  {
   "cell_type": "code",
   "execution_count": 298,
   "metadata": {},
   "outputs": [
    {
     "data": {
      "text/plain": [
       "2"
      ]
     },
     "execution_count": 298,
     "metadata": {},
     "output_type": "execute_result"
    }
   ],
   "source": [
    "clientes[\"Paca\"][\"compras\"][0][\"cantidad\"]"
   ]
  },
  {
   "cell_type": "code",
   "execution_count": 299,
   "metadata": {},
   "outputs": [],
   "source": [
    "carrito_de_paca = sum([clientes[\"Paca\"][\"compras\"][i][\"cantidad\"] * clientes[\"Paca\"][\"compras\"][i][\"precio\"] for i in range(len(clientes[\"Paca\"][\"compras\"]))])"
   ]
  },
  {
   "cell_type": "code",
   "execution_count": 301,
   "metadata": {},
   "outputs": [
    {
     "data": {
      "text/plain": [
       "[{'nombre': 'Pantalon', 'precio': 20, 'cantidad': 27},\n",
       " {'nombre': 'camisitagoapa', 'precio': 45, 'cantidad': 49}]"
      ]
     },
     "execution_count": 301,
     "metadata": {},
     "output_type": "execute_result"
    }
   ],
   "source": [
    "inventario"
   ]
  },
  {
   "cell_type": "code",
   "execution_count": null,
   "metadata": {},
   "outputs": [
    {
     "name": "stdout",
     "output_type": "stream",
     "text": [
      "75\n"
     ]
    }
   ],
   "source": [
    "articulo = \"Pantalon\"\n",
    "\n",
    "nombre = \"Paca\"\n",
    "\n",
    "\n",
    "for producto in inventario:\n",
    "            \n",
    "    if articulo == producto[\"nombre\"]:\n",
    "                \n",
    "        confirm = input(f\"Vas a comprar {cantidad} {producto[\"nombre\"]}. ¿Es correcto? S/N\").lower()\n",
    "                \n",
    "        if confirm == \"s\":\n",
    "                \n",
    "            clientes[nombre][\"compras\"].append({\"articulo\": articulo, \"cantidad\": cantidad, \"precio\": producto[\"precio\"]})\n",
    "                    \n",
    "            actualiza_stock(articulo, cantidad)\n",
    "                    \n",
    "            #Muestra el resultado de las compras del cliente!!\n",
    "    \n",
    "\n",
    "        \n",
    "carrito_cliente = sum(clientes[nombre][\"compras\"][i][\"cantidad\"] * clientes[nombre][\"compras\"][i][\"precio\"] for i in range(len(clientes[nombre][\"compras\"])))\n",
    "                    \n",
    "print(carrito_cliente)      "
   ]
  },
  {
   "cell_type": "code",
   "execution_count": 314,
   "metadata": {},
   "outputs": [
    {
     "name": "stdout",
     "output_type": "stream",
     "text": [
      "Bienvenid@ a Supertienda 😊\n",
      "Echa un vistazo a nuestro catálogo\n",
      "\n",
      "✏️Nombre: Pantalon\n",
      "💵Precio: 20€\n",
      "📦Cantidad: 26\n",
      "==================================================\n",
      "✏️Nombre: camisitagoapa\n",
      "💵Precio: 45€\n",
      "📦Cantidad: 48\n",
      "==================================================\n",
      "Pepe, has gastado 40€\n"
     ]
    }
   ],
   "source": [
    "realizar_compra_2(\n",
    ")"
   ]
  },
  {
   "cell_type": "code",
   "execution_count": 315,
   "metadata": {},
   "outputs": [
    {
     "data": {
      "text/plain": [
       "[{'articulo': 'Pantalon', 'cantidad': 2, 'precio': 20}]"
      ]
     },
     "execution_count": 315,
     "metadata": {},
     "output_type": "execute_result"
    }
   ],
   "source": [
    "clientes[\"Pepe\"][\"compras\"]"
   ]
  },
  {
   "cell_type": "code",
   "execution_count": 319,
   "metadata": {},
   "outputs": [
    {
     "name": "stdout",
     "output_type": "stream",
     "text": [
      "Bienvenid@ a Supertienda 😊\n",
      "Echa un vistazo a nuestro catálogo\n",
      "\n",
      "✏️Nombre: Pantalon\n",
      "💵Precio: 20€\n",
      "📦Cantidad: 24\n",
      "==================================================\n",
      "✏️Nombre: camisitagoapa\n",
      "💵Precio: 45€\n",
      "📦Cantidad: 47\n",
      "==================================================\n",
      "Pepe, has gastado 105€\n"
     ]
    }
   ],
   "source": [
    "realizar_compra_2()"
   ]
  },
  {
   "cell_type": "code",
   "execution_count": 320,
   "metadata": {},
   "outputs": [
    {
     "data": {
      "text/plain": [
       "[{'articulo': 'Pantalon', 'cantidad': 2, 'precio': 20},\n",
       " {'articulo': 'camisitagoapa', 'cantidad': 1, 'precio': 45},\n",
       " {'articulo': 'Pantalon', 'cantidad': 1, 'precio': 20}]"
      ]
     },
     "execution_count": 320,
     "metadata": {},
     "output_type": "execute_result"
    }
   ],
   "source": [
    "clientes[\"Pepe\"][\"compras\"]"
   ]
  },
  {
   "cell_type": "code",
   "execution_count": 1,
   "metadata": {},
   "outputs": [],
   "source": [
    "def realizar_compra_3():\n",
    "\n",
    "    print(f\"Bienvenid@ a Supertienda 😊\\nEcha un vistazo a nuestro catálogo\\n\")\n",
    "\n",
    "    cliente = input(\"¡Comienza tu compra! Introduce tu nombre:\")\n",
    "\n",
    "    if cliente in clientes.keys():\n",
    "        \n",
    "        ver_inventario()\n",
    "        \n",
    "        comprando = True\n",
    "        \n",
    "        while comprando:\n",
    "            \n",
    "            articulo = (input(\"Ingresa el nombre del producto que quieras agregar al carrito:\"))\n",
    "                \n",
    "            cantidad = int(input(\"Ingresa el número de artículos que deseas comprar:\"))\n",
    "                \n",
    "                \n",
    "            productos = [inventario[i][\"nombre\"] for i in range(len(inventario))]\n",
    "                \n",
    "            if articulo in productos:\n",
    "                \n",
    "                for producto in inventario:\n",
    "                    \n",
    "                    if articulo == producto[\"nombre\"]:\n",
    "                        \n",
    "                        confirm = input(f\"Vas a comprar {cantidad} {producto[\"nombre\"]}. ¿Es correcto? S/N\").lower()\n",
    "                        \n",
    "                        if confirm == \"s\":\n",
    "                        \n",
    "                            clientes[cliente][\"compras\"].append({\"articulo\": articulo, \"cantidad\": cantidad, \"precio\": producto[\"precio\"]})\n",
    "                            \n",
    "                            actualiza_stock(articulo, cantidad)\n",
    "                            \n",
    "                            #Muestra el resultado de las compras del cliente!!\n",
    "                            \n",
    "                \n",
    "                print (f\"{cliente}, has gastado {sum(clientes[cliente][\"compras\"][i][\"cantidad\"] * clientes[cliente][\"compras\"][i][\"precio\"] for i in range(len(clientes[cliente][\"compras\"])))}€\")\n",
    "                \n",
    "                seguir_comprando = input(\"¿Quieres seguir comprando? S/N\").lower()\n",
    "                \n",
    "                if seguir_comprando == \"s\":\n",
    "                    \n",
    "                    continue\n",
    "                else:\n",
    "                    \n",
    "                    break\n",
    "                        \n",
    "            else: \n",
    "                print(f\"Aún no vendemos {articulo}\")\n",
    "                break\n",
    "                \n",
    "    else: \n",
    "        \n",
    "        nombre = input(\"Debes crear una cuenta de cliente. Introduce tu nombre\")\n",
    "        \n",
    "        email = input(\"Introduce tu email\")\n",
    "        \n",
    "        agrega_cliente(nombre, email)\n",
    "        \n",
    "        realizar_compra_3()\n",
    "        "
   ]
  },
  {
   "cell_type": "code",
   "execution_count": 2,
   "metadata": {},
   "outputs": [],
   "source": [
    "inventario = [{'nombre': 'Pantalon', 'precio': 20, 'cantidad': 28},\n",
    " {'nombre': 'camisitagoapa', 'precio': 45, 'cantidad': 50}]"
   ]
  },
  {
   "cell_type": "code",
   "execution_count": 3,
   "metadata": {},
   "outputs": [],
   "source": [
    "clientes = {'Pepe': {'email': 'pepito@misitio.com', 'compras': []},\n",
    " 'Paca': {'email': 'algo@algo.com', 'compras': []}}"
   ]
  },
  {
   "cell_type": "code",
   "execution_count": 4,
   "metadata": {},
   "outputs": [
    {
     "name": "stdout",
     "output_type": "stream",
     "text": [
      "Bienvenid@ a Supertienda 😊\n",
      "Echa un vistazo a nuestro catálogo\n",
      "\n"
     ]
    },
    {
     "ename": "NameError",
     "evalue": "name 'ver_inventario' is not defined",
     "output_type": "error",
     "traceback": [
      "\u001b[1;31m---------------------------------------------------------------------------\u001b[0m",
      "\u001b[1;31mNameError\u001b[0m                                 Traceback (most recent call last)",
      "Cell \u001b[1;32mIn[4], line 1\u001b[0m\n\u001b[1;32m----> 1\u001b[0m realizar_compra_3(\n\u001b[0;32m      2\u001b[0m )\n",
      "Cell \u001b[1;32mIn[1], line 9\u001b[0m, in \u001b[0;36mrealizar_compra_3\u001b[1;34m()\u001b[0m\n\u001b[0;32m      5\u001b[0m cliente \u001b[38;5;241m=\u001b[39m \u001b[38;5;28minput\u001b[39m(\u001b[38;5;124m\"\u001b[39m\u001b[38;5;124m¡Comienza tu compra! Introduce tu nombre:\u001b[39m\u001b[38;5;124m\"\u001b[39m)\n\u001b[0;32m      7\u001b[0m \u001b[38;5;28;01mif\u001b[39;00m cliente \u001b[38;5;129;01min\u001b[39;00m clientes\u001b[38;5;241m.\u001b[39mkeys():\n\u001b[1;32m----> 9\u001b[0m     ver_inventario()\n\u001b[0;32m     11\u001b[0m     comprando \u001b[38;5;241m=\u001b[39m \u001b[38;5;28;01mTrue\u001b[39;00m\n\u001b[0;32m     13\u001b[0m     \u001b[38;5;28;01mwhile\u001b[39;00m comprando:\n",
      "\u001b[1;31mNameError\u001b[0m: name 'ver_inventario' is not defined"
     ]
    }
   ],
   "source": [
    "realizar_compra_3(\n",
    ")"
   ]
  },
  {
   "cell_type": "code",
   "execution_count": 12,
   "metadata": {},
   "outputs": [
    {
     "data": {
      "text/plain": [
       "{'email': 'tucutucu@atgae.com',\n",
       " 'compras': [{'articulo': 'Pantalon', 'cantidad': 1, 'precio': 20},\n",
       "  {'articulo': 'Pantalon', 'cantidad': 1, 'precio': 20}]}"
      ]
     },
     "execution_count": 12,
     "metadata": {},
     "output_type": "execute_result"
    }
   ],
   "source": [
    "clientes[\"Tucu\"]"
   ]
  },
  {
   "cell_type": "code",
   "execution_count": 15,
   "metadata": {},
   "outputs": [
    {
     "ename": "NameError",
     "evalue": "name 'productos' is not defined",
     "output_type": "error",
     "traceback": [
      "\u001b[1;31m---------------------------------------------------------------------------\u001b[0m",
      "\u001b[1;31mNameError\u001b[0m                                 Traceback (most recent call last)",
      "Cell \u001b[1;32mIn[15], line 1\u001b[0m\n\u001b[1;32m----> 1\u001b[0m productos\n",
      "\u001b[1;31mNameError\u001b[0m: name 'productos' is not defined"
     ]
    }
   ],
   "source": [
    "productos"
   ]
  },
  {
   "cell_type": "code",
   "execution_count": null,
   "metadata": {},
   "outputs": [],
   "source": []
  }
 ],
 "metadata": {
  "kernelspec": {
   "display_name": "base",
   "language": "python",
   "name": "python3"
  },
  "language_info": {
   "codemirror_mode": {
    "name": "ipython",
    "version": 3
   },
   "file_extension": ".py",
   "mimetype": "text/x-python",
   "name": "python",
   "nbconvert_exporter": "python",
   "pygments_lexer": "ipython3",
   "version": "3.12.7"
  }
 },
 "nbformat": 4,
 "nbformat_minor": 2
}
